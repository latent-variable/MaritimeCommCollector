{
 "cells": [
  {
   "cell_type": "markdown",
   "metadata": {},
   "source": [
    "# The Broadcastify Archive Toolkit for python\n",
    "#  Based of the `broadcastify-archtk` Demo"
   ]
  },
  {
   "cell_type": "markdown",
   "metadata": {},
   "source": [
    "## Supply a Webdriver Path\n",
    "\n",
    "\n",
    "[Updated Chrome WebDrivers locations](https://googlechromelabs.github.io/chrome-for-testing/#stable)\n",
    "\n",
    "[User Guide: Installing the WebDriver](https://ljhopkins2.github.io/broadcastify-archtk/user-guide/installation.html#installing-the-webdriver)\n",
    "\n",
    "If your webdriver is saved in a directory in your operating system's `PATH` environment variable, you can leave this cell alone.\n",
    "\n",
    "If not, provide the path to the webdriver.\n",
    "\n",
    "Recommend downloading and placing in the chromedriver folder"
   ]
  },
  {
   "cell_type": "code",
   "execution_count": 1,
   "metadata": {},
   "outputs": [],
   "source": [
    "webdriver_path = r'.\\chromedriver\\chromedriver.exe'  # recommend driver location"
   ]
  },
  {
   "cell_type": "markdown",
   "metadata": {},
   "source": [
    "### Install depencies "
   ]
  },
  {
   "cell_type": "code",
   "execution_count": null,
   "metadata": {},
   "outputs": [],
   "source": [
    "!pip install broadcastify_archtk\n",
    "!pip install selenium\n",
    "!pip install lxml\n",
    "!pip install --upgrade jupyter ipywidgets"
   ]
  },
  {
   "cell_type": "markdown",
   "metadata": {},
   "source": [
    "### Test Selenium\n",
    "Chrome should launch indicating that it is working "
   ]
  },
  {
   "cell_type": "code",
   "execution_count": 2,
   "metadata": {},
   "outputs": [],
   "source": [
    "from selenium import webdriver\n",
    "\n",
    "driver = webdriver.Chrome(webdriver_path)  # Path to ChromeDriver\n",
    "driver.get('http://www.google.com')"
   ]
  },
  {
   "cell_type": "markdown",
   "metadata": {},
   "source": [
    "## Import the Package\n",
    "\n",
    "[User Guide: Importing the package](https://ljhopkins2.github.io/broadcastify-archtk/user-guide/creating-an-archive.html#importing-the-package)"
   ]
  },
  {
   "cell_type": "code",
   "execution_count": 2,
   "metadata": {},
   "outputs": [],
   "source": [
    "from btk import BroadcastifyArchive\n",
    "import datetime as dt\n",
    "import configparser\n",
    "import threading\n",
    "import os"
   ]
  },
  {
   "cell_type": "markdown",
   "metadata": {},
   "source": [
    "## Instantiate the Toolkit\n",
    "\n",
    "[User Guide: Instantiating the toolkit](https://ljhopkins2.github.io/broadcastify-archtk/user-guide/creating-an-archive.html#instantiating-the-toolkit)\n",
    "\n",
    "Choose a feed to test:\n",
    "- from https://www.broadcastify.com/listen/\n",
    "    - click through the map to a feed of your choice\n",
    "    - grad the `feed_id` from the URL (`www.broadcastify.com/listen/feed/[feed_id]`)\n",
    "- or from the list in the cell below"
   ]
  },
  {
   "cell_type": "markdown",
   "metadata": {},
   "source": [
    "### Supply Login Credentials\n",
    "\n",
    "For the full demo, get a premium account for Broadcastify (see [User Guide: Getting through the paywall](https://ljhopkins2.github.io/broadcastify-archtk/user-guide/installation.html#getting-through-the-paywall)).\n",
    "\n",
    "Without a premium account, you can do Step 4 – but not Step 5 – of the demo.\n",
    "\n",
    "\n",
    "Once you have your Broadcastify account set up, you have two options:\n",
    "\n",
    "**OPTION 1**. Enter your username and password directly in the cell below."
   ]
  },
  {
   "cell_type": "code",
   "execution_count": 3,
   "metadata": {},
   "outputs": [],
   "source": [
    "## OPTION 1: Enter a username & password for a valid Broadcastify premium account below\n",
    "\n",
    "\n",
    "config = configparser.ConfigParser()\n",
    "config.read('config.ini')\n",
    "\n",
    "USERNAME = config['Broadcastify']['Username']\n",
    "PASSWORD = config['Broadcastify']['Password']"
   ]
  },
  {
   "cell_type": "markdown",
   "metadata": {},
   "source": [
    "**OPTION 2**. Create a configuration file (see [User Guide: Password configuration files](https://ljhopkins2.github.io/broadcastify-archtk/user-guide/creating-an-archive.html#password-configuration-files)) and supply the absolute path to the file"
   ]
  },
  {
   "cell_type": "code",
   "execution_count": 4,
   "metadata": {},
   "outputs": [],
   "source": [
    "## OPTION 2: Create a password configuration file, and supply the link below\n",
    "\n",
    "login_path = None"
   ]
  },
  {
   "cell_type": "markdown",
   "metadata": {},
   "source": [
    "### Instantiate a `BroadcastifyArchive` object"
   ]
  },
  {
   "cell_type": "markdown",
   "metadata": {},
   "source": [
    "## Build the Archive\n",
    "\n",
    "[User Guide: Building the archive](https://ljhopkins2.github.io/broadcastify-archtk/user-guide/building-the-archive.html#building-the-archive)\n",
    "\n",
    "The code below will build the archive for a one-week period starting 10 days ago."
   ]
  },
  {
   "cell_type": "markdown",
   "metadata": {},
   "source": [
    "## Download Audio Files\n",
    "\n",
    "[User Guide: Downloading audio files](https://ljhopkins2.github.io/broadcastify-archtk/user-guide/downloading-audio-files.html#downloading-audio-files)\n",
    "\n",
    "Fill in the absolute path to the directory you'll store the downloaded audio files in."
   ]
  },
  {
   "cell_type": "code",
   "execution_count": 5,
   "metadata": {},
   "outputs": [],
   "source": [
    "# Build the archive for 3-10 days ago\n",
    "start_date = (dt.datetime.now() - dt.timedelta(days=365)).date()\n",
    "end_date = (dt.datetime.now() - dt.timedelta(days=0)).date()\n",
    "\n",
    "# Specify the archive to download path\n",
    "# mp3_path = './downloaded_files/'\n",
    "mp3_path = r'C:\\Users\\linoa\\Downloads\\audio/'"
   ]
  },
  {
   "cell_type": "code",
   "execution_count": 6,
   "metadata": {},
   "outputs": [],
   "source": [
    "# TEST_FEED_ID = '30659' # Ballard Marine - Ch 13, 14 and 16\n",
    "TEST_FEED_IDs = [ '41152', #'30659', '26694','38117', '36119', '37404', '37460', '38764',\n",
    "                '40658', '38382', '22851', '31613', '38236', '37640',\n",
    "                 '17329', '34710','31445', '22612','26383','33765'] # list of all feeds to download"
   ]
  },
  {
   "cell_type": "code",
   "execution_count": 7,
   "metadata": {},
   "outputs": [
    {
     "name": "stdout",
     "output_type": "stream",
     "text": [
      "Downloading archives from 2023-01-05 22:00:00 to 2024-01-05 02:00:00\n"
     ]
    }
   ],
   "source": [
    "# Start a year ago, and end today\n",
    "download_start_time = dt.datetime.combine(end_date - dt.timedelta(days=365), dt.datetime(1,1,1,22,0).time())\n",
    "download_end_time = dt.datetime.combine(end_date, dt.datetime(1,1,1,2,0).time())\n",
    "print(f'Downloading archives from {download_start_time} to {download_end_time}')\n"
   ]
  },
  {
   "cell_type": "code",
   "execution_count": 8,
   "metadata": {},
   "outputs": [
    {
     "name": "stdout",
     "output_type": "stream",
     "text": [
      "Building archive for feed 41152\n",
      "Building archive for feed 40658Building archive for feed 38382Building archive for feed 22851\n",
      "Building archive for feed 31613\n",
      "\n",
      "Building archive for feed 38236Building archive for feed 37640\n",
      "\n",
      "Building archive for feed 17329Building archive for feed 34710Building archive for feed 31445Building archive for feed 22612Building archive for feed 26383Building archive for feed 33765\n",
      "\n",
      "\n",
      "\n",
      "\n",
      "\n",
      "\n"
     ]
    },
    {
     "name": "stdout",
     "output_type": "stream",
     "text": [
      "Initializing calendar navigation for Port Canaveral Marine Channels 16 & 12...\n",
      "Initializing calendar navigation for Indiana Lake Area Marine...\n",
      "Initializing calendar navigation for Mississippi River Marine St Louis Area...\n",
      "Initializing calendar navigation for Clayton Area Marine...\n",
      "Initializing calendar navigation for Mobile Area Marine...\n",
      "Initializing calendar navigation for Northern NJ and NY City Area Marine ...\n",
      "Initializing calendar navigation for Straits Area Marine Radio...\n",
      "Initializing calendar navigation for Massena Area Marine...\n",
      "Initializing calendar navigation for Boston Harbor Marine VHF...\n",
      "Initializing calendar navigation for Escambia County Area Marine...\n",
      "Initializing calendar navigation for Mobile Alabama Bay Marine 13...\n",
      "Initializing calendar navigation for Detroit Area Maritime...Initializing calendar navigation for Lake Erie Marine...\n",
      "\n",
      "2023-08-14\n",
      "2023-06-07\n",
      "2023-01-052023-01-05\n",
      "\n",
      "Initialization complete.\n",
      "\n",
      "BroadcastifyArchive\n",
      " (Feed ID = 41152\n",
      "  Feed Name = Port Canaveral Marine Channels 16 & 12\n",
      "  Feed URL = \"https://www.broadcastify.com/listen/feed/41152\"\n",
      "  Archive URL = \"https://www.broadcastify.com/archives/feed/41152\"\n",
      "  Start Date: 2023-08-14\n",
      "  End Date:   2024-01-05\n",
      "  Username = \"parad0xx\" Password = [True]\n",
      "  0 built archive entries \n",
      "2023-01-05\n",
      "Launching webdriver...\n",
      "2023-01-05\n",
      "2023-01-05\n",
      "2023-01-05\n",
      "2023-01-05\n",
      "Initialization complete.\n",
      "\n",
      "BroadcastifyArchive\n",
      " (Feed ID = 40658\n",
      "  Feed Name = Straits Area Marine Radio\n",
      "  Feed URL = \"https://www.broadcastify.com/listen/feed/40658\"\n",
      "  Archive URL = \"https://www.broadcastify.com/archives/feed/40658\"\n",
      "  Start Date: 2023-06-07\n",
      "  End Date:   2024-01-05\n",
      "  Username = \"parad0xx\" Password = [True]\n",
      "  0 built archive entries \n",
      "2023-01-05\n",
      "2023-01-05\n",
      "2023-01-05\n",
      "2023-01-05\n",
      "Launching webdriver...\n",
      "Initialization complete.\n",
      "\n",
      "BroadcastifyArchive\n",
      " (Feed ID = 22851\n",
      "  Feed Name = Indiana Lake Area Marine\n",
      "  Feed URL = \"https://www.broadcastify.com/listen/feed/22851\"\n",
      "  Archive URL = \"https://www.broadcastify.com/archives/feed/22851\"\n",
      "  Start Date: 2023-01-05\n",
      "  End Date:   2024-01-05\n",
      "  Username = \"parad0xx\" Password = [True]\n",
      "  0 built archive entries \n",
      "Initialization complete.\n",
      "\n",
      "BroadcastifyArchive\n",
      " (Feed ID = 33765\n",
      "  Feed Name = Mississippi River Marine St Louis Area\n",
      "  Feed URL = \"https://www.broadcastify.com/listen/feed/33765\"\n",
      "  Archive URL = \"https://www.broadcastify.com/archives/feed/33765\"\n",
      "  Start Date: 2023-01-05\n",
      "  End Date:   2024-01-05\n",
      "  Username = \"parad0xx\" Password = [True]\n",
      "  0 built archive entries \n",
      "Launching webdriver...\n",
      "Initialization complete.\n",
      "\n",
      "BroadcastifyArchive\n",
      " (Feed ID = 38382\n",
      "  Feed Name = Detroit Area Maritime\n",
      "  Feed URL = \"https://www.broadcastify.com/listen/feed/38382\"\n",
      "  Archive URL = \"https://www.broadcastify.com/archives/feed/38382\"\n",
      "  Start Date: 2023-01-05\n",
      "  End Date:   2024-01-05\n",
      "  Username = \"parad0xx\" Password = [True]\n",
      "  0 built archive entries \n",
      "Launching webdriver...\n",
      "Launching webdriver...\n",
      "Initialization complete.\n",
      "\n",
      "BroadcastifyArchive\n",
      " (Feed ID = 26383\n",
      "  Feed Name = Mobile Area Marine\n",
      "  Feed URL = \"https://www.broadcastify.com/listen/feed/26383\"\n",
      "  Archive URL = \"https://www.broadcastify.com/archives/feed/26383\"\n",
      "  Start Date: 2023-01-05\n",
      "  End Date:   2024-01-05\n",
      "  Username = \"parad0xx\" Password = [True]\n",
      "  0 built archive entries \n",
      "Initialization complete.\n",
      "\n",
      "BroadcastifyArchive\n",
      " (Feed ID = 22612\n",
      "  Feed Name = Mobile Alabama Bay Marine 13\n",
      "  Feed URL = \"https://www.broadcastify.com/listen/feed/22612\"\n",
      "  Archive URL = \"https://www.broadcastify.com/archives/feed/22612\"\n",
      "  Start Date: 2023-01-05\n",
      "  End Date:   2024-01-05\n",
      "  Username = \"parad0xx\" Password = [True]\n",
      "  0 built archive entries \n",
      "Launching webdriver...\n",
      "Initialization complete.\n",
      "\n",
      "BroadcastifyArchive\n",
      " (Feed ID = 31613\n",
      "  Feed Name = Massena Area Marine\n",
      "  Feed URL = \"https://www.broadcastify.com/listen/feed/31613\"\n",
      "  Archive URL = \"https://www.broadcastify.com/archives/feed/31613\"\n",
      "  Start Date: 2023-01-05\n",
      "  End Date:   2024-01-05\n",
      "  Username = \"parad0xx\" Password = [True]\n",
      "  0 built archive entries \n",
      "Launching webdriver...\n",
      "Initialization complete.\n",
      "\n",
      "BroadcastifyArchive\n",
      " (Feed ID = 34710\n",
      "  Feed Name = Boston Harbor Marine VHF\n",
      "  Feed URL = \"https://www.broadcastify.com/listen/feed/34710\"\n",
      "  Archive URL = \"https://www.broadcastify.com/archives/feed/34710\"\n",
      "  Start Date: 2023-01-05\n",
      "  End Date:   2024-01-05\n",
      "  Username = \"parad0xx\" Password = [True]\n",
      "  0 built archive entries \n",
      "Launching webdriver...\n",
      "Initialization complete.\n",
      "\n",
      "BroadcastifyArchive\n",
      " (Feed ID = 37640\n",
      "  Feed Name = Lake Erie Marine\n",
      "  Feed URL = \"https://www.broadcastify.com/listen/feed/37640\"\n",
      "  Archive URL = \"https://www.broadcastify.com/archives/feed/37640\"\n",
      "  Start Date: 2023-01-05\n",
      "  End Date:   2024-01-05\n",
      "  Username = \"parad0xx\" Password = [True]\n",
      "  0 built archive entries \n",
      "Launching webdriver...\n",
      "Initialization complete.\n",
      "Initialization complete.\n",
      "\n",
      "BroadcastifyArchive\n",
      " (Feed ID = 17329\n",
      "  Feed Name = Northern NJ and NY City Area Marine \n",
      "  Feed URL = \"https://www.broadcastify.com/listen/feed/17329\"\n",
      "  Archive URL = \"https://www.broadcastify.com/archives/feed/17329\"\n",
      "  Start Date: 2023-01-05\n",
      "  End Date:   2024-01-05\n",
      "  Username = \"parad0xx\" Password = [True]\n",
      "  0 built archive entries \n",
      "\n",
      "BroadcastifyArchive\n",
      " (Feed ID = 38236\n",
      "  Feed Name = Clayton Area Marine\n",
      "  Feed URL = \"https://www.broadcastify.com/listen/feed/38236\"\n",
      "  Archive URL = \"https://www.broadcastify.com/archives/feed/38236\"\n",
      "  Start Date: 2023-01-05\n",
      "  End Date:   2024-01-05\n",
      "  Username = \"parad0xx\" Password = [True]\n",
      "  0 built archive entries \n",
      "Initialization complete.\n",
      "\n",
      "BroadcastifyArchive\n",
      " (Feed ID = 31445\n",
      "  Feed Name = Escambia County Area Marine\n",
      "  Feed URL = \"https://www.broadcastify.com/listen/feed/31445\"\n",
      "  Archive URL = \"https://www.broadcastify.com/archives/feed/31445\"\n",
      "  Start Date: 2023-01-05\n",
      "  End Date:   2024-01-05\n",
      "  Username = \"parad0xx\" Password = [True]\n",
      "  0 built archive entries \n",
      "Launching webdriver...\n",
      "Launching webdriver...\n",
      "Launching webdriver...\n",
      "Launching webdriver...\n"
     ]
    },
    {
     "data": {
      "application/vnd.jupyter.widget-view+json": {
       "model_id": "33d974183c074f5ca54285cc9cf747d8",
       "version_major": 2,
       "version_minor": 0
      },
      "text/plain": [
       "HBox(children=(IntProgress(value=0, description='Building dates', layout=Layout(flex='2'), max=145, style=Prog…"
      ]
     },
     "metadata": {},
     "output_type": "display_data"
    },
    {
     "data": {
      "application/vnd.jupyter.widget-view+json": {
       "model_id": "e58ea2a146c34b73953360d4e323c414",
       "version_major": 2,
       "version_minor": 0
      },
      "text/plain": [
       "HBox(children=(IntProgress(value=0, description='Building dates', layout=Layout(flex='2'), max=213, style=Prog…"
      ]
     },
     "metadata": {},
     "output_type": "display_data"
    },
    {
     "data": {
      "application/vnd.jupyter.widget-view+json": {
       "model_id": "bebf665a76cb439186e9495721d1a288",
       "version_major": 2,
       "version_minor": 0
      },
      "text/plain": [
       "HBox(children=(IntProgress(value=0, description='Building dates', layout=Layout(flex='2'), max=366, style=Prog…"
      ]
     },
     "metadata": {},
     "output_type": "display_data"
    },
    {
     "data": {
      "application/vnd.jupyter.widget-view+json": {
       "model_id": "709f030336b542cb9527de9f2983a16c",
       "version_major": 2,
       "version_minor": 0
      },
      "text/plain": [
       "HBox(children=(IntProgress(value=0, description='Building dates', layout=Layout(flex='2'), max=366, style=Prog…"
      ]
     },
     "metadata": {},
     "output_type": "display_data"
    },
    {
     "data": {
      "application/vnd.jupyter.widget-view+json": {
       "model_id": "0175b92ef8484b76a517d98a800534a5",
       "version_major": 2,
       "version_minor": 0
      },
      "text/plain": [
       "HBox(children=(IntProgress(value=0, description='Building dates', layout=Layout(flex='2'), max=366, style=Prog…"
      ]
     },
     "metadata": {},
     "output_type": "display_data"
    },
    {
     "data": {
      "application/vnd.jupyter.widget-view+json": {
       "model_id": "236448942e9544aca8846d2832655eab",
       "version_major": 2,
       "version_minor": 0
      },
      "text/plain": [
       "HBox(children=(IntProgress(value=0, description='Building dates', layout=Layout(flex='2'), max=366, style=Prog…"
      ]
     },
     "metadata": {},
     "output_type": "display_data"
    },
    {
     "data": {
      "application/vnd.jupyter.widget-view+json": {
       "model_id": "b08bee3f8e434ff8bb85ef957f224293",
       "version_major": 2,
       "version_minor": 0
      },
      "text/plain": [
       "HBox(children=(IntProgress(value=0, description='Building dates', layout=Layout(flex='2'), max=366, style=Prog…"
      ]
     },
     "metadata": {},
     "output_type": "display_data"
    },
    {
     "data": {
      "application/vnd.jupyter.widget-view+json": {
       "model_id": "f895fb7033854786a231129e0c481856",
       "version_major": 2,
       "version_minor": 0
      },
      "text/plain": [
       "HBox(children=(IntProgress(value=0, description='Building dates', layout=Layout(flex='2'), max=366, style=Prog…"
      ]
     },
     "metadata": {},
     "output_type": "display_data"
    },
    {
     "data": {
      "application/vnd.jupyter.widget-view+json": {
       "model_id": "05d2293cdbe94ad18fd43839bc9d7fc7",
       "version_major": 2,
       "version_minor": 0
      },
      "text/plain": [
       "HBox(children=(IntProgress(value=0, description='Building dates', layout=Layout(flex='2'), max=366, style=Prog…"
      ]
     },
     "metadata": {},
     "output_type": "display_data"
    },
    {
     "data": {
      "application/vnd.jupyter.widget-view+json": {
       "model_id": "92dd3a458340460b84a2f9e4ffbb1ea2",
       "version_major": 2,
       "version_minor": 0
      },
      "text/plain": [
       "HBox(children=(IntProgress(value=0, description='Building dates', layout=Layout(flex='2'), max=366, style=Prog…"
      ]
     },
     "metadata": {},
     "output_type": "display_data"
    },
    {
     "data": {
      "application/vnd.jupyter.widget-view+json": {
       "model_id": "3ace47767cf54cc5b844a91eeba6a365",
       "version_major": 2,
       "version_minor": 0
      },
      "text/plain": [
       "HBox(children=(IntProgress(value=0, description='Building dates', layout=Layout(flex='2'), max=366, style=Prog…"
      ]
     },
     "metadata": {},
     "output_type": "display_data"
    },
    {
     "data": {
      "application/vnd.jupyter.widget-view+json": {
       "model_id": "71faec54047f495491c52ded8561e527",
       "version_major": 2,
       "version_minor": 0
      },
      "text/plain": [
       "HBox(children=(IntProgress(value=0, description='Building dates', layout=Layout(flex='2'), max=366, style=Prog…"
      ]
     },
     "metadata": {},
     "output_type": "display_data"
    },
    {
     "data": {
      "application/vnd.jupyter.widget-view+json": {
       "model_id": "18856c429e904bd0ae3a14741d92a849",
       "version_major": 2,
       "version_minor": 0
      },
      "text/plain": [
       "HBox(children=(IntProgress(value=0, description='Building dates', layout=Layout(flex='2'), max=366, style=Prog…"
      ]
     },
     "metadata": {},
     "output_type": "display_data"
    },
    {
     "name": "stdout",
     "output_type": "stream",
     "text": [
      "BroadcastifyArchive\n",
      " (Feed ID = 41152\n",
      "  Feed Name = Port Canaveral Marine Channels 16 & 12\n",
      "  Feed URL = \"https://www.broadcastify.com/listen/feed/41152\"\n",
      "  Archive URL = \"https://www.broadcastify.com/archives/feed/41152\"\n",
      "  Start Date: 2023-08-14\n",
      "  End Date:   2024-01-05\n",
      "  Username = \"parad0xx\" Password = [True]\n",
      "  6,854 built archive entries between 2023-08-14 and 2024-01-05\n"
     ]
    },
    {
     "data": {
      "application/vnd.jupyter.widget-view+json": {
       "model_id": "7a7579890cff479e871d0ebca6ef782f",
       "version_major": 2,
       "version_minor": 0
      },
      "text/plain": [
       "HBox(children=(IntProgress(value=0, description='Overall progress', layout=Layout(flex='2'), max=6830, style=P…"
      ]
     },
     "metadata": {},
     "output_type": "display_data"
    },
    {
     "name": "stdout",
     "output_type": "stream",
     "text": [
      "Downloading 08-13-23 23:53 to 01-05-24 01:02\n",
      "Storing at C:\\Users\\linoa\\Downloads\\audio/41152/.\n",
      "\tGetting download page for 41152-1704434537...\n"
     ]
    }
   ],
   "source": [
    "def process_feed(TEST_FEED_ID):\n",
    "    try:\n",
    "        print(f'Building archive for feed {TEST_FEED_ID}')\n",
    "        archive = BroadcastifyArchive(TEST_FEED_ID, \n",
    "                                      # login_cfg_path=login_path, \n",
    "                                      username=USERNAME, \n",
    "                                      password=PASSWORD,\n",
    "                                      webdriver_path=webdriver_path)\n",
    "        archive.build(start=start_date, end=end_date)\n",
    "\n",
    "        # Download the mp3s for the given time range\n",
    "        out_path = os.path.join(mp3_path, TEST_FEED_ID)\n",
    "        if not os.path.exists(out_path):\n",
    "            os.makedirs(out_path)\n",
    "\n",
    "        out_path += '/'\n",
    "        archive.download(start=download_start_time, end=download_end_time, output_path=out_path)\n",
    "    except:\n",
    "        print(f'Failed to download feed {TEST_FEED_ID}')\n",
    "        pass\n",
    "\n",
    "threads = []\n",
    "\n",
    "for TEST_FEED_ID in TEST_FEED_IDs:\n",
    "    thread = threading.Thread(target=process_feed, args=(TEST_FEED_ID,))\n",
    "    threads.append(thread)\n",
    "    thread.start()\n",
    "\n",
    "# Wait for all threads to complete\n",
    "for thread in threads:\n",
    "    thread.join()\n",
    "\n",
    "print(\"All downloads completed.\")\n"
   ]
  },
  {
   "cell_type": "markdown",
   "metadata": {},
   "source": [
    "----"
   ]
  }
 ],
 "metadata": {
  "kernelspec": {
   "display_name": "Python 3",
   "language": "python",
   "name": "python3"
  },
  "language_info": {
   "codemirror_mode": {
    "name": "ipython",
    "version": 3
   },
   "file_extension": ".py",
   "mimetype": "text/x-python",
   "name": "python",
   "nbconvert_exporter": "python",
   "pygments_lexer": "ipython3",
   "version": "3.10.6"
  },
  "toc": {
   "base_numbering": 1,
   "nav_menu": {},
   "number_sections": true,
   "sideBar": true,
   "skip_h1_title": true,
   "title_cell": "Table of Contents",
   "title_sidebar": "Contents",
   "toc_cell": false,
   "toc_position": {},
   "toc_section_display": true,
   "toc_window_display": false
  },
  "varInspector": {
   "cols": {
    "lenName": 16,
    "lenType": 16,
    "lenVar": 40
   },
   "kernels_config": {
    "python": {
     "delete_cmd_postfix": "",
     "delete_cmd_prefix": "del ",
     "library": "var_list.py",
     "varRefreshCmd": "print(var_dic_list())"
    },
    "r": {
     "delete_cmd_postfix": ") ",
     "delete_cmd_prefix": "rm(",
     "library": "var_list.r",
     "varRefreshCmd": "cat(var_dic_list()) "
    }
   },
   "types_to_exclude": [
    "module",
    "function",
    "builtin_function_or_method",
    "instance",
    "_Feature"
   ],
   "window_display": false
  }
 },
 "nbformat": 4,
 "nbformat_minor": 2
}
