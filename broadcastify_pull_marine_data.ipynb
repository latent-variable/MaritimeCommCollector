{
 "cells": [
  {
   "cell_type": "markdown",
   "metadata": {},
   "source": [
    "# The Broadcastify Archive Toolkit for python\n",
    "#  Based of the `broadcastify-archtk` Demo"
   ]
  },
  {
   "cell_type": "markdown",
   "metadata": {},
   "source": [
    "## Supply a Webdriver Path\n",
    "\n",
    "\n",
    "[Updated Chrome WebDrivers locations](https://googlechromelabs.github.io/chrome-for-testing/#stable)\n",
    "\n",
    "[User Guide: Installing the WebDriver](https://ljhopkins2.github.io/broadcastify-archtk/user-guide/installation.html#installing-the-webdriver)\n",
    "\n",
    "If your webdriver is saved in a directory in your operating system's `PATH` environment variable, you can leave this cell alone.\n",
    "\n",
    "If not, provide the path to the webdriver.\n",
    "\n",
    "Recommend downloading and placing in the chromedriver folder"
   ]
  },
  {
   "cell_type": "code",
   "execution_count": 1,
   "metadata": {},
   "outputs": [],
   "source": [
    "webdriver_path = r'.\\chromedriver\\chromedriver.exe'  # recommend driver location"
   ]
  },
  {
   "cell_type": "markdown",
   "metadata": {},
   "source": [
    "### Install depencies "
   ]
  },
  {
   "cell_type": "code",
   "execution_count": null,
   "metadata": {},
   "outputs": [],
   "source": [
    "!pip install broadcastify_archtk\n",
    "!pip install selenium\n",
    "!pip install lxml\n",
    "!pip install --upgrade jupyter ipywidgets"
   ]
  },
  {
   "cell_type": "markdown",
   "metadata": {},
   "source": [
    "### Test Selenium\n",
    "Chrome should launch indicating that it is working "
   ]
  },
  {
   "cell_type": "code",
   "execution_count": 2,
   "metadata": {},
   "outputs": [],
   "source": [
    "from selenium import webdriver\n",
    "\n",
    "driver = webdriver.Chrome(webdriver_path)  # Path to ChromeDriver\n",
    "driver.get('http://www.google.com')"
   ]
  },
  {
   "cell_type": "markdown",
   "metadata": {},
   "source": [
    "## Import the Package\n",
    "\n",
    "[User Guide: Importing the package](https://ljhopkins2.github.io/broadcastify-archtk/user-guide/creating-an-archive.html#importing-the-package)"
   ]
  },
  {
   "cell_type": "code",
   "execution_count": 2,
   "metadata": {},
   "outputs": [],
   "source": [
    "from btk import BroadcastifyArchive\n",
    "import datetime as dt\n",
    "import configparser\n",
    "import threading\n",
    "import os"
   ]
  },
  {
   "cell_type": "markdown",
   "metadata": {},
   "source": [
    "## Instantiate the Toolkit\n",
    "\n",
    "[User Guide: Instantiating the toolkit](https://ljhopkins2.github.io/broadcastify-archtk/user-guide/creating-an-archive.html#instantiating-the-toolkit)\n",
    "\n",
    "Choose a feed to test:\n",
    "- from https://www.broadcastify.com/listen/\n",
    "    - click through the map to a feed of your choice\n",
    "    - grad the `feed_id` from the URL (`www.broadcastify.com/listen/feed/[feed_id]`)\n",
    "- or from the list in the cell below"
   ]
  },
  {
   "cell_type": "markdown",
   "metadata": {},
   "source": [
    "### Supply Login Credentials\n",
    "\n",
    "For the full demo, get a premium account for Broadcastify (see [User Guide: Getting through the paywall](https://ljhopkins2.github.io/broadcastify-archtk/user-guide/installation.html#getting-through-the-paywall)).\n",
    "\n",
    "Without a premium account, you can do Step 4 – but not Step 5 – of the demo.\n",
    "\n",
    "\n",
    "Once you have your Broadcastify account set up, you have two options:\n",
    "\n",
    "**OPTION 1**. Enter your username and password directly in the cell below."
   ]
  },
  {
   "cell_type": "code",
   "execution_count": 3,
   "metadata": {},
   "outputs": [],
   "source": [
    "## OPTION 1: Enter a username & password for a valid Broadcastify premium account below\n",
    "\n",
    "\n",
    "config = configparser.ConfigParser()\n",
    "config.read('config.ini')\n",
    "\n",
    "USERNAME = config['Broadcastify']['Username']\n",
    "PASSWORD = config['Broadcastify']['Password']"
   ]
  },
  {
   "cell_type": "markdown",
   "metadata": {},
   "source": [
    "**OPTION 2**. Create a configuration file (see [User Guide: Password configuration files](https://ljhopkins2.github.io/broadcastify-archtk/user-guide/creating-an-archive.html#password-configuration-files)) and supply the absolute path to the file"
   ]
  },
  {
   "cell_type": "code",
   "execution_count": 4,
   "metadata": {},
   "outputs": [],
   "source": [
    "## OPTION 2: Create a password configuration file, and supply the link below\n",
    "\n",
    "login_path = None"
   ]
  },
  {
   "cell_type": "markdown",
   "metadata": {},
   "source": [
    "### Instantiate a `BroadcastifyArchive` object"
   ]
  },
  {
   "cell_type": "markdown",
   "metadata": {},
   "source": [
    "## Build the Archive\n",
    "\n",
    "[User Guide: Building the archive](https://ljhopkins2.github.io/broadcastify-archtk/user-guide/building-the-archive.html#building-the-archive)\n",
    "\n",
    "The code below will build the archive for a one-week period starting 10 days ago."
   ]
  },
  {
   "cell_type": "markdown",
   "metadata": {},
   "source": [
    "## Download Audio Files\n",
    "\n",
    "[User Guide: Downloading audio files](https://ljhopkins2.github.io/broadcastify-archtk/user-guide/downloading-audio-files.html#downloading-audio-files)\n",
    "\n",
    "Fill in the absolute path to the directory you'll store the downloaded audio files in."
   ]
  },
  {
   "cell_type": "code",
   "execution_count": 11,
   "metadata": {},
   "outputs": [
    {
     "name": "stdout",
     "output_type": "stream",
     "text": [
      "start_date: 2023-03-11, end_date: 2023-12-31\n"
     ]
    }
   ],
   "source": [
    "# Build the archive for 3-10 days ago\n",
    "start_date = (dt.datetime.now() - dt.timedelta(days=300)).date()\n",
    "end_date = (dt.datetime.now() - dt.timedelta(days=5)).date()\n",
    "\n",
    "print(f'start_date: {start_date}, end_date: {end_date}')\n",
    "\n",
    "# Specify the archive to download path\n",
    "# mp3_path = './downloaded_files/'\n",
    "mp3_path = r'C:\\Users\\linoa\\Downloads\\audio/'"
   ]
  },
  {
   "cell_type": "code",
   "execution_count": 12,
   "metadata": {},
   "outputs": [],
   "source": [
    "# TEST_FEED_ID = '30659' # Ballard Marine - Ch 13, 14 and 16\n",
    "TEST_FEED_IDs = [ '41152','30659', '26694','38117', '36119', '37404', '37460', '38764',\n",
    "                '40658', '38382', '22851', '31613', '38236', '37640',\n",
    "                 '17329','31445', '22612','26383','33765'] # list of all feeds to download"
   ]
  },
  {
   "cell_type": "code",
   "execution_count": 13,
   "metadata": {},
   "outputs": [
    {
     "name": "stdout",
     "output_type": "stream",
     "text": [
      "Downloading archives from 2023-03-06 22:00:00 to 2023-12-31 02:00:00\n"
     ]
    }
   ],
   "source": [
    "# Start a year ago, and end today\n",
    "download_start_time = dt.datetime.combine(end_date - dt.timedelta(days=300), dt.datetime(1,1,1,22,0).time())\n",
    "download_end_time = dt.datetime.combine(end_date, dt.datetime(1,1,1,2,0).time())\n",
    "print(f'Downloading archives from {download_start_time} to {download_end_time}')\n"
   ]
  },
  {
   "cell_type": "code",
   "execution_count": 14,
   "metadata": {},
   "outputs": [
    {
     "name": "stdout",
     "output_type": "stream",
     "text": [
      "Building archive for feed 41152Building archive for feed 30659Building archive for feed 26694\n",
      "Building archive for feed 38117\n",
      "Building archive for feed 36119\n",
      "Building archive for feed 37404\n",
      "Building archive for feed 37460\n",
      "\n",
      "Building archive for feed 38764Building archive for feed 40658Building archive for feed 38382\n",
      "Building archive for feed 22851\n",
      "Building archive for feed 31613Building archive for feed 38236\n",
      "Building archive for feed 37640\n",
      "Building archive for feed 17329Building archive for feed 31445Building archive for feed 22612\n",
      "Building archive for feed 26383Building archive for feed 33765\n",
      "\n",
      "\n",
      "\n",
      "\n",
      "\n",
      "\n",
      "\n",
      "Initializing calendar navigation for Ballard Marine - Ch 13, 14 and 16...\n",
      "Initializing calendar navigation for San Francisco Bay Marine Traffic...Initializing calendar navigation for Port Canaveral Marine Channels 16 & 12...\n",
      "\n",
      "Initializing calendar navigation for Northern NJ and NY City Area Marine ...\n",
      "Initializing calendar navigation for San Francisco Marine Ch 16...\n",
      "Initializing calendar navigation for Kitsap County Area Marine...\n",
      "Initializing calendar navigation for Indiana Lake Area Marine...\n",
      "Initializing calendar navigation for Door County Marine Traffic...Initializing calendar navigation for Sault Sainte Marie Marine Ch-12 (Soo Traffic)...\n",
      "\n",
      "Initializing calendar navigation for Mobile Alabama Bay Marine 13...\n",
      "Initializing calendar navigation for Duluth-Superior Harbor Marine Traffic...\n",
      "Initializing calendar navigation for Clayton Area Marine...Initializing calendar navigation for Escambia County Area Marine...\n",
      "\n",
      "Initializing calendar navigation for Massena Area Marine...\n",
      "Initializing calendar navigation for Mississippi River Marine St Louis Area...\n",
      "Initializing calendar navigation for Mobile Area Marine...\n",
      "Initializing calendar navigation for Straits Area Marine Radio...\n",
      "Initializing calendar navigation for Detroit Area Maritime...\n",
      "Initializing calendar navigation for Lake Erie Marine...\n",
      "2023-08-14\n",
      "2023-06-07\n",
      "Initialization complete.\n",
      "\n",
      "BroadcastifyArchive\n",
      " (Feed ID = 41152\n",
      "  Feed Name = Port Canaveral Marine Channels 16 & 12\n",
      "  Feed URL = \"https://www.broadcastify.com/listen/feed/41152\"\n",
      "  Archive URL = \"https://www.broadcastify.com/archives/feed/41152\"\n",
      "  Start Date: 2023-08-14\n",
      "  End Date:   2024-01-05\n",
      "  Username = \"parad0xx\" Password = [True]\n",
      "  0 built archive entries \n",
      "Launching webdriver...\n",
      "2023-01-05\n",
      "Initialization complete.\n",
      "\n",
      "BroadcastifyArchive\n",
      " (Feed ID = 40658\n",
      "  Feed Name = Straits Area Marine Radio\n",
      "  Feed URL = \"https://www.broadcastify.com/listen/feed/40658\"\n",
      "  Archive URL = \"https://www.broadcastify.com/archives/feed/40658\"\n",
      "  Start Date: 2023-06-07\n",
      "  End Date:   2024-01-05\n",
      "  Username = \"parad0xx\" Password = [True]\n",
      "  0 built archive entries \n",
      "2023-01-05\n",
      "Launching webdriver...\n",
      "2023-01-05\n",
      "2023-01-052023-01-05\n",
      "\n",
      "2023-01-052023-01-052023-01-05\n",
      "\n",
      "\n",
      "2023-01-05\n",
      "2023-01-05\n",
      "2023-01-05\n",
      "2023-01-05\n",
      "2023-01-05\n",
      "2023-01-05\n",
      "2023-01-05\n",
      "2023-01-052023-01-05\n",
      "\n",
      "Initialization complete.\n",
      "\n",
      "BroadcastifyArchive\n",
      " (Feed ID = 17329\n",
      "  Feed Name = Northern NJ and NY City Area Marine \n",
      "  Feed URL = \"https://www.broadcastify.com/listen/feed/17329\"\n",
      "  Archive URL = \"https://www.broadcastify.com/archives/feed/17329\"\n",
      "  Start Date: 2023-01-05\n",
      "  End Date:   2024-01-05\n",
      "  Username = \"parad0xx\" Password = [True]\n",
      "  0 built archive entries \n",
      "Launching webdriver...\n",
      "Initialization complete.\n",
      "\n",
      "BroadcastifyArchive\n",
      " (Feed ID = 30659\n",
      "  Feed Name = Ballard Marine - Ch 13, 14 and 16\n",
      "  Feed URL = \"https://www.broadcastify.com/listen/feed/30659\"\n",
      "  Archive URL = \"https://www.broadcastify.com/archives/feed/30659\"\n",
      "  Start Date: 2023-01-05\n",
      "  End Date:   2024-01-05\n",
      "  Username = \"parad0xx\" Password = [True]\n",
      "  0 built archive entries \n",
      "Launching webdriver...\n",
      "Initialization complete.\n",
      "\n",
      "BroadcastifyArchive\n",
      " (Feed ID = 38117\n",
      "  Feed Name = San Francisco Marine Ch 16\n",
      "  Feed URL = \"https://www.broadcastify.com/listen/feed/38117\"\n",
      "  Archive URL = \"https://www.broadcastify.com/archives/feed/38117\"\n",
      "  Start Date: 2023-01-05\n",
      "  End Date:   2024-01-05\n",
      "  Username = \"parad0xx\" Password = [True]\n",
      "  0 built archive entries \n",
      "Initialization complete.\n",
      "\n",
      "BroadcastifyArchive\n",
      " (Feed ID = 31613\n",
      "  Feed Name = Massena Area Marine\n",
      "  Feed URL = \"https://www.broadcastify.com/listen/feed/31613\"\n",
      "  Archive URL = \"https://www.broadcastify.com/archives/feed/31613\"\n",
      "  Start Date: 2023-01-05\n",
      "  End Date:   2024-01-05\n",
      "  Username = \"parad0xx\" Password = [True]\n",
      "  0 built archive entries \n",
      "Initialization complete.\n",
      "\n",
      "BroadcastifyArchive\n",
      " (Feed ID = 26694\n",
      "  Feed Name = Kitsap County Area Marine\n",
      "  Feed URL = \"https://www.broadcastify.com/listen/feed/26694\"\n",
      "  Archive URL = \"https://www.broadcastify.com/archives/feed/26694\"\n",
      "  Start Date: 2023-01-05\n",
      "  End Date:   2024-01-05\n",
      "  Username = \"parad0xx\" Password = [True]\n",
      "  0 built archive entries \n",
      "Initialization complete.\n",
      "\n",
      "BroadcastifyArchive\n",
      " (Feed ID = 22612\n",
      "  Feed Name = Mobile Alabama Bay Marine 13\n",
      "  Feed URL = \"https://www.broadcastify.com/listen/feed/22612\"\n",
      "  Archive URL = \"https://www.broadcastify.com/archives/feed/22612\"\n",
      "  Start Date: 2023-01-05\n",
      "  End Date:   2024-01-05\n",
      "  Username = \"parad0xx\" Password = [True]\n",
      "  0 built archive entries \n",
      "Launching webdriver...Initialization complete.\n",
      "\n",
      "\n",
      "BroadcastifyArchive\n",
      " (Feed ID = 38382\n",
      "  Feed Name = Detroit Area Maritime\n",
      "  Feed URL = \"https://www.broadcastify.com/listen/feed/38382\"\n",
      "  Archive URL = \"https://www.broadcastify.com/archives/feed/38382\"\n",
      "  Start Date: 2023-01-05\n",
      "  End Date:   2024-01-05\n",
      "  Username = \"parad0xx\" Password = [True]\n",
      "  0 built archive entries \n",
      "Initialization complete.\n",
      "\n",
      "BroadcastifyArchive\n",
      " (Feed ID = 31445\n",
      "  Feed Name = Escambia County Area Marine\n",
      "  Feed URL = \"https://www.broadcastify.com/listen/feed/31445\"\n",
      "  Archive URL = \"https://www.broadcastify.com/archives/feed/31445\"\n",
      "  Start Date: 2023-01-05\n",
      "  End Date:   2024-01-05\n",
      "  Username = \"parad0xx\" Password = [True]\n",
      "  0 built archive entries \n",
      "Launching webdriver...\n",
      "Initialization complete.\n",
      "\n",
      "BroadcastifyArchive\n",
      " (Feed ID = 26383\n",
      "  Feed Name = Mobile Area Marine\n",
      "  Feed URL = \"https://www.broadcastify.com/listen/feed/26383\"\n",
      "  Archive URL = \"https://www.broadcastify.com/archives/feed/26383\"\n",
      "  Start Date: 2023-01-05\n",
      "  End Date:   2024-01-05\n",
      "  Username = \"parad0xx\" Password = [True]\n",
      "  0 built archive entries \n",
      "Initialization complete.\n",
      "\n",
      "Initialization complete.\n",
      "\n",
      "BroadcastifyArchive\n",
      " (Feed ID = 37404\n",
      "  Feed Name = Duluth-Superior Harbor Marine Traffic\n",
      "  Feed URL = \"https://www.broadcastify.com/listen/feed/37404\"\n",
      "  Archive URL = \"https://www.broadcastify.com/archives/feed/37404\"\n",
      "  Start Date: 2023-01-05\n",
      "  End Date:   2024-01-05\n",
      "  Username = \"parad0xx\" Password = [True]\n",
      "  0 built archive entries BroadcastifyArchive\n",
      " (Feed ID = 33765\n",
      "  Feed Name = Mississippi River Marine St Louis Area\n",
      "  Feed URL = \"https://www.broadcastify.com/listen/feed/33765\"\n",
      "  Archive URL = \"https://www.broadcastify.com/archives/feed/33765\"\n",
      "  Start Date: 2023-01-05\n",
      "  End Date:   2024-01-05\n",
      "  Username = \"parad0xx\" Password = [True]\n",
      "  0 built archive entries \n",
      "\n",
      "Initialization complete.\n",
      "\n",
      "BroadcastifyArchive\n",
      " (Feed ID = 37460\n",
      "  Feed Name = Door County Marine Traffic\n",
      "  Feed URL = \"https://www.broadcastify.com/listen/feed/37460\"\n",
      "  Archive URL = \"https://www.broadcastify.com/archives/feed/37460\"\n",
      "  Start Date: 2023-01-05\n",
      "  End Date:   2024-01-05\n",
      "  Username = \"parad0xx\" Password = [True]\n",
      "  0 built archive entries \n",
      "Launching webdriver...Initialization complete.\n",
      "\n",
      "\n",
      "BroadcastifyArchive\n",
      " (Feed ID = 38764\n",
      "  Feed Name = Sault Sainte Marie Marine Ch-12 (Soo Traffic)\n",
      "  Feed URL = \"https://www.broadcastify.com/listen/feed/38764\"\n",
      "  Archive URL = \"https://www.broadcastify.com/archives/feed/38764\"\n",
      "  Start Date: 2023-01-05\n",
      "  End Date:   2024-01-05\n",
      "  Username = \"parad0xx\" Password = [True]\n",
      "  0 built archive entries Launching webdriver...\n",
      "\n",
      "Initialization complete.\n",
      "\n",
      "BroadcastifyArchive\n",
      " (Feed ID = 22851\n",
      "  Feed Name = Indiana Lake Area Marine\n",
      "  Feed URL = \"https://www.broadcastify.com/listen/feed/22851\"\n",
      "  Archive URL = \"https://www.broadcastify.com/archives/feed/22851\"\n",
      "  Start Date: 2023-01-05\n",
      "  End Date:   2024-01-05\n",
      "  Username = \"parad0xx\" Password = [True]\n",
      "  0 built archive entries \n",
      "Initialization complete.\n",
      "Initialization complete.\n",
      "\n",
      "\n",
      "BroadcastifyArchive\n",
      " (Feed ID = 38236\n",
      "  Feed Name = Clayton Area Marine\n",
      "  Feed URL = \"https://www.broadcastify.com/listen/feed/38236\"\n",
      "  Archive URL = \"https://www.broadcastify.com/archives/feed/38236\"\n",
      "  Start Date: 2023-01-05\n",
      "  End Date:   2024-01-05\n",
      "  Username = \"parad0xx\" Password = [True]\n",
      "  0 built archive entries BroadcastifyArchive\n",
      " (Feed ID = 37640\n",
      "  Feed Name = Lake Erie Marine\n",
      "  Feed URL = \"https://www.broadcastify.com/listen/feed/37640\"\n",
      "  Archive URL = \"https://www.broadcastify.com/archives/feed/37640\"\n",
      "  Start Date: 2023-01-05\n",
      "  End Date:   2024-01-05\n",
      "  Username = \"parad0xx\" Password = [True]\n",
      "  0 built archive entries \n",
      "\n",
      "Launching webdriver...\n",
      "Launching webdriver...\n",
      "Launching webdriver...\n",
      "Launching webdriver...\n",
      "Launching webdriver...\n",
      "Launching webdriver...\n",
      "Launching webdriver...\n",
      "Launching webdriver...\n",
      "Launching webdriver...\n",
      "Launching webdriver...\n"
     ]
    },
    {
     "name": "stderr",
     "output_type": "stream",
     "text": [
      "Exception in thread Thread-29 (process_feed):\n",
      "Traceback (most recent call last):\n",
      "  File \"C:\\Users\\linoa\\AppData\\Local\\Programs\\Python\\Python310\\lib\\threading.py\", line 1016, in _bootstrap_inner\n",
      "    self.run()\n",
      "  File \"C:\\Users\\linoa\\AppData\\Local\\Programs\\Python\\Python310\\lib\\threading.py\", line 953, in run\n",
      "    self._target(*self._args, **self._kwargs)\n",
      "  File \"C:\\Users\\linoa\\AppData\\Local\\Temp\\ipykernel_35876\\3483433650.py\", line 4, in process_feed\n",
      "  File \"c:\\Users\\linoa\\OneDrive\\Documents\\GitHub\\MaritimeCommCollector\\btk.py\", line 186, in __init__\n",
      "    self.feed_id = feed_id\n",
      "  File \"c:\\Users\\linoa\\OneDrive\\Documents\\GitHub\\MaritimeCommCollector\\btk.py\", line 515, in feed_id\n",
      "    self._get_archive_dates()\n",
      "  File \"c:\\Users\\linoa\\OneDrive\\Documents\\GitHub\\MaritimeCommCollector\\btk.py\", line 468, in _get_archive_dates\n",
      "    self.archive_calendar = ArchiveCalendar(self, browser,\n",
      "  File \"c:\\Users\\linoa\\OneDrive\\Documents\\GitHub\\MaritimeCommCollector\\btk.py\", line 753, in __init__\n",
      "    self._att = ArchiveTimesTable(self, browser)\n",
      "  File \"c:\\Users\\linoa\\OneDrive\\Documents\\GitHub\\MaritimeCommCollector\\btk.py\", line 982, in __init__\n",
      "    element = _WebDriverWait(self._browser, 10).until(\n",
      "  File \"c:\\Users\\linoa\\OneDrive\\Documents\\GitHub\\MaritimeCommCollector\\.venv\\lib\\site-packages\\selenium\\webdriver\\support\\wait.py\", line 80, in until\n",
      "    raise TimeoutException(message, screen, stacktrace)\n",
      "selenium.common.exceptions.TimeoutException: Message: \n",
      "\n"
     ]
    },
    {
     "data": {
      "application/vnd.jupyter.widget-view+json": {
       "model_id": "38817d8a7b664d7996b188288f4090e6",
       "version_major": 2,
       "version_minor": 0
      },
      "text/plain": [
       "HBox(children=(IntProgress(value=0, description='Building dates', layout=Layout(flex='2'), max=140, style=Prog…"
      ]
     },
     "metadata": {},
     "output_type": "display_data"
    },
    {
     "data": {
      "application/vnd.jupyter.widget-view+json": {
       "model_id": "5228ae311e454dc2b9ba14aff48b3617",
       "version_major": 2,
       "version_minor": 0
      },
      "text/plain": [
       "HBox(children=(IntProgress(value=0, description='Building dates', layout=Layout(flex='2'), max=208, style=Prog…"
      ]
     },
     "metadata": {},
     "output_type": "display_data"
    },
    {
     "data": {
      "application/vnd.jupyter.widget-view+json": {
       "model_id": "76aecec49fe14161967d1ac367ba6dd7",
       "version_major": 2,
       "version_minor": 0
      },
      "text/plain": [
       "HBox(children=(IntProgress(value=0, description='Building dates', layout=Layout(flex='2'), max=296, style=Prog…"
      ]
     },
     "metadata": {},
     "output_type": "display_data"
    },
    {
     "data": {
      "application/vnd.jupyter.widget-view+json": {
       "model_id": "6e7c683db1944bafb0f87391719288bf",
       "version_major": 2,
       "version_minor": 0
      },
      "text/plain": [
       "HBox(children=(IntProgress(value=0, description='Building dates', layout=Layout(flex='2'), max=296, style=Prog…"
      ]
     },
     "metadata": {},
     "output_type": "display_data"
    },
    {
     "data": {
      "application/vnd.jupyter.widget-view+json": {
       "model_id": "4a4da416af3f44aaa4bac99cb9a4ce1a",
       "version_major": 2,
       "version_minor": 0
      },
      "text/plain": [
       "HBox(children=(IntProgress(value=0, description='Building dates', layout=Layout(flex='2'), max=296, style=Prog…"
      ]
     },
     "metadata": {},
     "output_type": "display_data"
    },
    {
     "data": {
      "application/vnd.jupyter.widget-view+json": {
       "model_id": "796f442a82f2453b98a86702a9bbdd83",
       "version_major": 2,
       "version_minor": 0
      },
      "text/plain": [
       "HBox(children=(IntProgress(value=0, description='Building dates', layout=Layout(flex='2'), max=296, style=Prog…"
      ]
     },
     "metadata": {},
     "output_type": "display_data"
    },
    {
     "data": {
      "application/vnd.jupyter.widget-view+json": {
       "model_id": "1dc460576e834ae8b354f5b855b96c28",
       "version_major": 2,
       "version_minor": 0
      },
      "text/plain": [
       "HBox(children=(IntProgress(value=0, description='Building dates', layout=Layout(flex='2'), max=296, style=Prog…"
      ]
     },
     "metadata": {},
     "output_type": "display_data"
    },
    {
     "data": {
      "application/vnd.jupyter.widget-view+json": {
       "model_id": "40a574a794354961bf9fa5a9d1904324",
       "version_major": 2,
       "version_minor": 0
      },
      "text/plain": [
       "HBox(children=(IntProgress(value=0, description='Building dates', layout=Layout(flex='2'), max=296, style=Prog…"
      ]
     },
     "metadata": {},
     "output_type": "display_data"
    },
    {
     "data": {
      "application/vnd.jupyter.widget-view+json": {
       "model_id": "db00271faf1e40feb11f3079be4b59ae",
       "version_major": 2,
       "version_minor": 0
      },
      "text/plain": [
       "HBox(children=(IntProgress(value=0, description='Building dates', layout=Layout(flex='2'), max=296, style=Prog…"
      ]
     },
     "metadata": {},
     "output_type": "display_data"
    },
    {
     "data": {
      "application/vnd.jupyter.widget-view+json": {
       "model_id": "007e10b8eeb34f808fc7eca2fc39625d",
       "version_major": 2,
       "version_minor": 0
      },
      "text/plain": [
       "HBox(children=(IntProgress(value=0, description='Building dates', layout=Layout(flex='2'), max=296, style=Prog…"
      ]
     },
     "metadata": {},
     "output_type": "display_data"
    },
    {
     "data": {
      "application/vnd.jupyter.widget-view+json": {
       "model_id": "f383c9dd21ce4495a62509c5d82e2978",
       "version_major": 2,
       "version_minor": 0
      },
      "text/plain": [
       "HBox(children=(IntProgress(value=0, description='Building dates', layout=Layout(flex='2'), max=296, style=Prog…"
      ]
     },
     "metadata": {},
     "output_type": "display_data"
    },
    {
     "data": {
      "application/vnd.jupyter.widget-view+json": {
       "model_id": "713c3a4765294faf8223e095841c9e0c",
       "version_major": 2,
       "version_minor": 0
      },
      "text/plain": [
       "HBox(children=(IntProgress(value=0, description='Building dates', layout=Layout(flex='2'), max=296, style=Prog…"
      ]
     },
     "metadata": {},
     "output_type": "display_data"
    },
    {
     "data": {
      "application/vnd.jupyter.widget-view+json": {
       "model_id": "61225ca32be44d0ab0c98ff9d5adf124",
       "version_major": 2,
       "version_minor": 0
      },
      "text/plain": [
       "HBox(children=(IntProgress(value=0, description='Building dates', layout=Layout(flex='2'), max=296, style=Prog…"
      ]
     },
     "metadata": {},
     "output_type": "display_data"
    },
    {
     "data": {
      "application/vnd.jupyter.widget-view+json": {
       "model_id": "0632a54021114445bb7da9095e7cba92",
       "version_major": 2,
       "version_minor": 0
      },
      "text/plain": [
       "HBox(children=(IntProgress(value=0, description='Building dates', layout=Layout(flex='2'), max=296, style=Prog…"
      ]
     },
     "metadata": {},
     "output_type": "display_data"
    },
    {
     "data": {
      "application/vnd.jupyter.widget-view+json": {
       "model_id": "b86287fcc085450bbe054da7ae20a88b",
       "version_major": 2,
       "version_minor": 0
      },
      "text/plain": [
       "HBox(children=(IntProgress(value=0, description='Building dates', layout=Layout(flex='2'), max=296, style=Prog…"
      ]
     },
     "metadata": {},
     "output_type": "display_data"
    },
    {
     "data": {
      "application/vnd.jupyter.widget-view+json": {
       "model_id": "0dcc25a484114b5e8637cac22c3a3fb0",
       "version_major": 2,
       "version_minor": 0
      },
      "text/plain": [
       "HBox(children=(IntProgress(value=0, description='Building dates', layout=Layout(flex='2'), max=296, style=Prog…"
      ]
     },
     "metadata": {},
     "output_type": "display_data"
    },
    {
     "data": {
      "application/vnd.jupyter.widget-view+json": {
       "model_id": "2d2088edcfb44cb9b3d502558b2ebc83",
       "version_major": 2,
       "version_minor": 0
      },
      "text/plain": [
       "HBox(children=(IntProgress(value=0, description='Building dates', layout=Layout(flex='2'), max=296, style=Prog…"
      ]
     },
     "metadata": {},
     "output_type": "display_data"
    },
    {
     "data": {
      "application/vnd.jupyter.widget-view+json": {
       "model_id": "fa2d8eedf27a43f5b0050ac910e35ca0",
       "version_major": 2,
       "version_minor": 0
      },
      "text/plain": [
       "HBox(children=(IntProgress(value=0, description='Building dates', layout=Layout(flex='2'), max=296, style=Prog…"
      ]
     },
     "metadata": {},
     "output_type": "display_data"
    },
    {
     "name": "stdout",
     "output_type": "stream",
     "text": [
      "BroadcastifyArchive\n",
      " (Feed ID = 41152\n",
      "  Feed Name = Port Canaveral Marine Channels 16 & 12\n",
      "  Feed URL = \"https://www.broadcastify.com/listen/feed/41152\"\n",
      "  Archive URL = \"https://www.broadcastify.com/archives/feed/41152\"\n",
      "  Start Date: 2023-08-14\n",
      "  End Date:   2024-01-05\n",
      "  Username = \"parad0xx\" Password = [True]\n",
      "  6,634 built archive entries between 2023-08-14 and 2023-12-31\n"
     ]
    },
    {
     "data": {
      "application/vnd.jupyter.widget-view+json": {
       "model_id": "701ac5ce995d4c71ad97964b7d5a367f",
       "version_major": 2,
       "version_minor": 0
      },
      "text/plain": [
       "HBox(children=(IntProgress(value=0, description='Overall progress', layout=Layout(flex='2'), max=6590, style=P…"
      ]
     },
     "metadata": {},
     "output_type": "display_data"
    },
    {
     "name": "stdout",
     "output_type": "stream",
     "text": [
      "Downloading 08-13-23 23:53 to 12-31-23 01:12\n",
      "Storing at C:\\Users\\linoa\\Downloads\\audio/41152/.\n"
     ]
    },
    {
     "name": "stderr",
     "output_type": "stream",
     "text": [
      "Exception in thread Thread-25 (process_feed):\n",
      "Traceback (most recent call last):\n",
      "  File \"C:\\Users\\linoa\\AppData\\Local\\Programs\\Python\\Python310\\lib\\threading.py\", line 1016, in _bootstrap_inner\n",
      "    self.run()\n",
      "  File \"C:\\Users\\linoa\\AppData\\Local\\Programs\\Python\\Python310\\lib\\threading.py\", line 953, in run\n",
      "    self._target(*self._args, **self._kwargs)\n",
      "  File \"C:\\Users\\linoa\\AppData\\Local\\Temp\\ipykernel_35876\\3483433650.py\", line 17, in process_feed\n",
      "  File \"c:\\Users\\linoa\\OneDrive\\Documents\\GitHub\\MaritimeCommCollector\\btk.py\", line 446, in download\n",
      "    dn.get_archive_mp3s(filtered_entries, output_path)\n",
      "  File \"c:\\Users\\linoa\\OneDrive\\Documents\\GitHub\\MaritimeCommCollector\\btk.py\", line 638, in get_archive_mp3s\n",
      "    mp3_soup = self.get_download_soup(archive_uri)\n",
      "  File \"c:\\Users\\linoa\\OneDrive\\Documents\\GitHub\\MaritimeCommCollector\\btk.py\", line 604, in get_download_soup\n",
      "    raise ConnectionError(f'Problem connecting while getting soup from '\n",
      "ConnectionError: Problem connecting while getting soup from https://m.broadcastify.com/archives/idv2/41152-1704001355: 403\n",
      "Exception in thread Thread-33 (process_feed):\n",
      "Traceback (most recent call last):\n",
      "  File \"C:\\Users\\linoa\\AppData\\Local\\Programs\\Python\\Python310\\lib\\threading.py\", line 1016, in _bootstrap_inner\n",
      "    self.run()\n",
      "  File \"C:\\Users\\linoa\\AppData\\Local\\Programs\\Python\\Python310\\lib\\threading.py\", line 953, in run\n",
      "    self._target(*self._args, **self._kwargs)\n",
      "  File \"C:\\Users\\linoa\\AppData\\Local\\Temp\\ipykernel_35876\\3483433650.py\", line 9, in process_feed\n",
      "  File \"c:\\Users\\linoa\\OneDrive\\Documents\\GitHub\\MaritimeCommCollector\\btk.py\", line 339, in build\n",
      "    self.arch_cal.go_to_date(date)\n",
      "  File \"c:\\Users\\linoa\\OneDrive\\Documents\\GitHub\\MaritimeCommCollector\\btk.py\", line 812, in go_to_date\n",
      "    self.update()\n",
      "  File \"c:\\Users\\linoa\\OneDrive\\Documents\\GitHub\\MaritimeCommCollector\\btk.py\", line 757, in update\n",
      "    self._scrape_contents()\n",
      "  File \"c:\\Users\\linoa\\OneDrive\\Documents\\GitHub\\MaritimeCommCollector\\btk.py\", line 915, in _scrape_contents\n",
      "    soup = _BeautifulSoup(self._browser.page_source, 'lxml')\n",
      "  File \"c:\\Users\\linoa\\OneDrive\\Documents\\GitHub\\MaritimeCommCollector\\.venv\\lib\\site-packages\\selenium\\webdriver\\remote\\webdriver.py\", line 679, in page_source\n",
      "    return self.execute(Command.GET_PAGE_SOURCE)['value']\n",
      "  File \"c:\\Users\\linoa\\OneDrive\\Documents\\GitHub\\MaritimeCommCollector\\.venv\\lib\\site-packages\\selenium\\webdriver\\remote\\webdriver.py\", line 321, in execute\n",
      "    self.error_handler.check_response(response)\n",
      "  File \"c:\\Users\\linoa\\OneDrive\\Documents\\GitHub\\MaritimeCommCollector\\.venv\\lib\\site-packages\\selenium\\webdriver\\remote\\errorhandler.py\", line 241, in check_response\n",
      "    raise exception_class(message, screen, stacktrace, alert_text)\n",
      "selenium.common.exceptions.UnexpectedAlertPresentException: Alert Text: DataTables warning: table id=archiveTimes - Ajax error. For more information about this error, please see http://datatables.net/tn/7\n",
      "Message: unexpected alert open: {Alert text : DataTables warning: table id=archiveTimes - Ajax error. For more information about this error, please see http://datatables.net/tn/7}\n",
      "  (Session info: chrome-headless-shell=120.0.6099.130)\n",
      "\n",
      "Exception in thread Thread-43 (process_feed):\n",
      "Traceback (most recent call last):\n",
      "  File \"C:\\Users\\linoa\\AppData\\Local\\Programs\\Python\\Python310\\lib\\threading.py\", line 1016, in _bootstrap_inner\n",
      "    self.run()\n",
      "  File \"C:\\Users\\linoa\\AppData\\Local\\Programs\\Python\\Python310\\lib\\threading.py\", line 953, in run\n",
      "    self._target(*self._args, **self._kwargs)\n",
      "  File \"C:\\Users\\linoa\\AppData\\Local\\Temp\\ipykernel_35876\\3483433650.py\", line 9, in process_feed\n",
      "  File \"c:\\Users\\linoa\\OneDrive\\Documents\\GitHub\\MaritimeCommCollector\\btk.py\", line 339, in build\n",
      "    self.arch_cal.go_to_date(date)\n",
      "  File \"c:\\Users\\linoa\\OneDrive\\Documents\\GitHub\\MaritimeCommCollector\\btk.py\", line 812, in go_to_date\n",
      "    self.update()\n",
      "  File \"c:\\Users\\linoa\\OneDrive\\Documents\\GitHub\\MaritimeCommCollector\\btk.py\", line 757, in update\n",
      "    self._scrape_contents()\n",
      "  File \"c:\\Users\\linoa\\OneDrive\\Documents\\GitHub\\MaritimeCommCollector\\btk.py\", line 915, in _scrape_contents\n",
      "    soup = _BeautifulSoup(self._browser.page_source, 'lxml')\n",
      "  File \"c:\\Users\\linoa\\OneDrive\\Documents\\GitHub\\MaritimeCommCollector\\.venv\\lib\\site-packages\\selenium\\webdriver\\remote\\webdriver.py\", line 679, in page_source\n",
      "    return self.execute(Command.GET_PAGE_SOURCE)['value']\n",
      "  File \"c:\\Users\\linoa\\OneDrive\\Documents\\GitHub\\MaritimeCommCollector\\.venv\\lib\\site-packages\\selenium\\webdriver\\remote\\webdriver.py\", line 321, in execute\n",
      "    self.error_handler.check_response(response)\n",
      "  File \"c:\\Users\\linoa\\OneDrive\\Documents\\GitHub\\MaritimeCommCollector\\.venv\\lib\\site-packages\\selenium\\webdriver\\remote\\errorhandler.py\", line 241, in check_response\n",
      "    raise exception_class(message, screen, stacktrace, alert_text)\n",
      "selenium.common.exceptions.UnexpectedAlertPresentException: Alert Text: DataTables warning: table id=archiveTimes - Ajax error. For more information about this error, please see http://datatables.net/tn/7\n",
      "Message: unexpected alert open: {Alert text : DataTables warning: table id=archiveTimes - Ajax error. For more information about this error, please see http://datatables.net/tn/7}\n",
      "  (Session info: chrome-headless-shell=120.0.6099.130)\n",
      "\n",
      "Exception in thread Thread-28 (process_feed):\n",
      "Traceback (most recent call last):\n",
      "  File \"C:\\Users\\linoa\\AppData\\Local\\Programs\\Python\\Python310\\lib\\threading.py\", line 1016, in _bootstrap_inner\n",
      "    self.run()\n",
      "  File \"C:\\Users\\linoa\\AppData\\Local\\Programs\\Python\\Python310\\lib\\threading.py\", line 953, in run\n",
      "    self._target(*self._args, **self._kwargs)\n",
      "  File \"C:\\Users\\linoa\\AppData\\Local\\Temp\\ipykernel_35876\\3483433650.py\", line 9, in process_feed\n",
      "  File \"c:\\Users\\linoa\\OneDrive\\Documents\\GitHub\\MaritimeCommCollector\\btk.py\", line 339, in build\n",
      "    self.arch_cal.go_to_date(date)\n",
      "  File \"c:\\Users\\linoa\\OneDrive\\Documents\\GitHub\\MaritimeCommCollector\\btk.py\", line 813, in go_to_date\n",
      "    self._att.update()\n",
      "  File \"c:\\Users\\linoa\\OneDrive\\Documents\\GitHub\\MaritimeCommCollector\\btk.py\", line 1005, in update\n",
      "    self._scrape_contents()\n",
      "  File \"c:\\Users\\linoa\\OneDrive\\Documents\\GitHub\\MaritimeCommCollector\\btk.py\", line 1049, in _scrape_contents\n",
      "    soup = _BeautifulSoup(self._browser.page_source, 'lxml')\n",
      "  File \"c:\\Users\\linoa\\OneDrive\\Documents\\GitHub\\MaritimeCommCollector\\.venv\\lib\\site-packages\\selenium\\webdriver\\remote\\webdriver.py\", line 679, in page_source\n",
      "    return self.execute(Command.GET_PAGE_SOURCE)['value']\n",
      "  File \"c:\\Users\\linoa\\OneDrive\\Documents\\GitHub\\MaritimeCommCollector\\.venv\\lib\\site-packages\\selenium\\webdriver\\remote\\webdriver.py\", line 321, in execute\n",
      "    self.error_handler.check_response(response)\n",
      "  File \"c:\\Users\\linoa\\OneDrive\\Documents\\GitHub\\MaritimeCommCollector\\.venv\\lib\\site-packages\\selenium\\webdriver\\remote\\errorhandler.py\", line 241, in check_response\n",
      "    raise exception_class(message, screen, stacktrace, alert_text)\n",
      "selenium.common.exceptions.UnexpectedAlertPresentException: Alert Text: DataTables warning: table id=archiveTimes - Ajax error. For more information about this error, please see http://datatables.net/tn/7\n",
      "Message: unexpected alert open: {Alert text : DataTables warning: table id=archiveTimes - Ajax error. For more information about this error, please see http://datatables.net/tn/7}\n",
      "  (Session info: chrome-headless-shell=120.0.6099.130)\n",
      "\n",
      "Exception in thread Thread-27 (process_feed):\n",
      "Traceback (most recent call last):\n",
      "  File \"C:\\Users\\linoa\\AppData\\Local\\Programs\\Python\\Python310\\lib\\threading.py\", line 1016, in _bootstrap_inner\n",
      "    self.run()\n",
      "  File \"C:\\Users\\linoa\\AppData\\Local\\Programs\\Python\\Python310\\lib\\threading.py\", line 953, in run\n",
      "    self._target(*self._args, **self._kwargs)\n",
      "  File \"C:\\Users\\linoa\\AppData\\Local\\Temp\\ipykernel_35876\\3483433650.py\", line 9, in process_feed\n",
      "  File \"c:\\Users\\linoa\\OneDrive\\Documents\\GitHub\\MaritimeCommCollector\\btk.py\", line 339, in build\n",
      "    self.arch_cal.go_to_date(date)\n",
      "  File \"c:\\Users\\linoa\\OneDrive\\Documents\\GitHub\\MaritimeCommCollector\\btk.py\", line 813, in go_to_date\n",
      "    self._att.update()\n",
      "  File \"c:\\Users\\linoa\\OneDrive\\Documents\\GitHub\\MaritimeCommCollector\\btk.py\", line 1004, in update\n",
      "    self._wait_for_refresh()\n",
      "  File \"c:\\Users\\linoa\\OneDrive\\Documents\\GitHub\\MaritimeCommCollector\\btk.py\", line 1061, in _wait_for_refresh\n",
      "    element = _WebDriverWait(self._browser, 5).until_not(\n",
      "  File \"c:\\Users\\linoa\\OneDrive\\Documents\\GitHub\\MaritimeCommCollector\\.venv\\lib\\site-packages\\selenium\\webdriver\\support\\wait.py\", line 96, in until_not\n",
      "    raise TimeoutException(message)\n",
      "selenium.common.exceptions.TimeoutException: Message: \n",
      "\n",
      "Exception in thread Exception in thread Thread-39 (process_feed)Thread-42 (process_feed):\n",
      ":\n",
      "Traceback (most recent call last):\n",
      "  File \"C:\\Users\\linoa\\AppData\\Local\\Programs\\Python\\Python310\\lib\\threading.py\", line 1016, in _bootstrap_inner\n",
      "Traceback (most recent call last):\n",
      "  File \"C:\\Users\\linoa\\AppData\\Local\\Programs\\Python\\Python310\\lib\\threading.py\", line 1016, in _bootstrap_inner\n",
      "    self.run()    \n",
      "self.run()  File \"C:\\Users\\linoa\\AppData\\Local\\Programs\\Python\\Python310\\lib\\threading.py\", line 953, in run\n",
      "\n",
      "  File \"C:\\Users\\linoa\\AppData\\Local\\Programs\\Python\\Python310\\lib\\threading.py\", line 953, in run\n",
      "        self._target(*self._args, **self._kwargs)self._target(*self._args, **self._kwargs)\n",
      "\n",
      "  File \"C:\\Users\\linoa\\AppData\\Local\\Temp\\ipykernel_35876\\3483433650.py\", line 9, in process_feed\n",
      "  File \"C:\\Users\\linoa\\AppData\\Local\\Temp\\ipykernel_35876\\3483433650.py\", line 9, in process_feed\n",
      "  File \"c:\\Users\\linoa\\OneDrive\\Documents\\GitHub\\MaritimeCommCollector\\btk.py\", line 339, in build\n",
      "  File \"c:\\Users\\linoa\\OneDrive\\Documents\\GitHub\\MaritimeCommCollector\\btk.py\", line 339, in build\n",
      "        self.arch_cal.go_to_date(date)self.arch_cal.go_to_date(date)\n",
      "\n",
      "  File \"c:\\Users\\linoa\\OneDrive\\Documents\\GitHub\\MaritimeCommCollector\\btk.py\", line 813, in go_to_date\n",
      "  File \"c:\\Users\\linoa\\OneDrive\\Documents\\GitHub\\MaritimeCommCollector\\btk.py\", line 813, in go_to_date\n",
      "        self._att.update()self._att.update()\n",
      "  File \"c:\\Users\\linoa\\OneDrive\\Documents\\GitHub\\MaritimeCommCollector\\btk.py\", line 1004, in update\n",
      "\n",
      "  File \"c:\\Users\\linoa\\OneDrive\\Documents\\GitHub\\MaritimeCommCollector\\btk.py\", line 1004, in update\n",
      "    self._wait_for_refresh()    \n",
      "self._wait_for_refresh()  File \"c:\\Users\\linoa\\OneDrive\\Documents\\GitHub\\MaritimeCommCollector\\btk.py\", line 1061, in _wait_for_refresh\n",
      "\n",
      "  File \"c:\\Users\\linoa\\OneDrive\\Documents\\GitHub\\MaritimeCommCollector\\btk.py\", line 1061, in _wait_for_refresh\n",
      "        element = _WebDriverWait(self._browser, 5).until_not(element = _WebDriverWait(self._browser, 5).until_not(\n",
      "\n",
      "  File \"c:\\Users\\linoa\\OneDrive\\Documents\\GitHub\\MaritimeCommCollector\\.venv\\lib\\site-packages\\selenium\\webdriver\\support\\wait.py\", line 96, in until_not\n",
      "  File \"c:\\Users\\linoa\\OneDrive\\Documents\\GitHub\\MaritimeCommCollector\\.venv\\lib\\site-packages\\selenium\\webdriver\\support\\wait.py\", line 96, in until_not\n",
      "        raise TimeoutException(message)\n",
      "raise TimeoutException(message)\n",
      "selenium.common.exceptions.selenium.common.exceptions.TimeoutExceptionTimeoutException: Message: \n",
      ": \n",
      "Message: \n",
      "\n",
      "Exception in thread Thread-36 (process_feed):\n",
      "Traceback (most recent call last):\n",
      "  File \"C:\\Users\\linoa\\AppData\\Local\\Programs\\Python\\Python310\\lib\\threading.py\", line 1016, in _bootstrap_inner\n",
      "    self.run()\n",
      "  File \"C:\\Users\\linoa\\AppData\\Local\\Programs\\Python\\Python310\\lib\\threading.py\", line 953, in run\n",
      "    self._target(*self._args, **self._kwargs)\n",
      "  File \"C:\\Users\\linoa\\AppData\\Local\\Temp\\ipykernel_35876\\3483433650.py\", line 9, in process_feed\n",
      "  File \"c:\\Users\\linoa\\OneDrive\\Documents\\GitHub\\MaritimeCommCollector\\btk.py\", line 339, in build\n",
      "    self.arch_cal.go_to_date(date)\n",
      "  File \"c:\\Users\\linoa\\OneDrive\\Documents\\GitHub\\MaritimeCommCollector\\btk.py\", line 813, in go_to_date\n",
      "    self._att.update()\n",
      "  File \"c:\\Users\\linoa\\OneDrive\\Documents\\GitHub\\MaritimeCommCollector\\btk.py\", line 1004, in update\n",
      "    self._wait_for_refresh()\n",
      "  File \"c:\\Users\\linoa\\OneDrive\\Documents\\GitHub\\MaritimeCommCollector\\btk.py\", line 1061, in _wait_for_refresh\n",
      "    element = _WebDriverWait(self._browser, 5).until_not(\n",
      "  File \"c:\\Users\\linoa\\OneDrive\\Documents\\GitHub\\MaritimeCommCollector\\.venv\\lib\\site-packages\\selenium\\webdriver\\support\\wait.py\", line 96, in until_not\n",
      "    raise TimeoutException(message)\n",
      "selenium.common.exceptions.TimeoutException: Message: \n",
      "\n",
      "Exception in thread Thread-31 (process_feed):\n",
      "Traceback (most recent call last):\n",
      "  File \"C:\\Users\\linoa\\AppData\\Local\\Programs\\Python\\Python310\\lib\\threading.py\", line 1016, in _bootstrap_inner\n",
      "    self.run()\n",
      "  File \"C:\\Users\\linoa\\AppData\\Local\\Programs\\Python\\Python310\\lib\\threading.py\", line 953, in run\n",
      "    self._target(*self._args, **self._kwargs)\n",
      "  File \"C:\\Users\\linoa\\AppData\\Local\\Temp\\ipykernel_35876\\3483433650.py\", line 9, in process_feed\n",
      "  File \"c:\\Users\\linoa\\OneDrive\\Documents\\GitHub\\MaritimeCommCollector\\btk.py\", line 339, in build\n",
      "    self.arch_cal.go_to_date(date)\n",
      "  File \"c:\\Users\\linoa\\OneDrive\\Documents\\GitHub\\MaritimeCommCollector\\btk.py\", line 813, in go_to_date\n",
      "    self._att.update()\n",
      "  File \"c:\\Users\\linoa\\OneDrive\\Documents\\GitHub\\MaritimeCommCollector\\btk.py\", line 1004, in update\n",
      "    self._wait_for_refresh()\n",
      "  File \"c:\\Users\\linoa\\OneDrive\\Documents\\GitHub\\MaritimeCommCollector\\btk.py\", line 1061, in _wait_for_refresh\n",
      "    element = _WebDriverWait(self._browser, 5).until_not(\n",
      "  File \"c:\\Users\\linoa\\OneDrive\\Documents\\GitHub\\MaritimeCommCollector\\.venv\\lib\\site-packages\\selenium\\webdriver\\support\\wait.py\", line 96, in until_not\n",
      "    raise TimeoutException(message)\n",
      "selenium.common.exceptions.TimeoutException: Message: \n",
      "\n",
      "Exception in thread Thread-35 (process_feed):\n",
      "Traceback (most recent call last):\n",
      "  File \"C:\\Users\\linoa\\AppData\\Local\\Programs\\Python\\Python310\\lib\\threading.py\", line 1016, in _bootstrap_inner\n",
      "    self.run()\n",
      "  File \"C:\\Users\\linoa\\AppData\\Local\\Programs\\Python\\Python310\\lib\\threading.py\", line 953, in run\n",
      "    self._target(*self._args, **self._kwargs)\n",
      "  File \"C:\\Users\\linoa\\AppData\\Local\\Temp\\ipykernel_35876\\3483433650.py\", line 9, in process_feed\n",
      "  File \"c:\\Users\\linoa\\OneDrive\\Documents\\GitHub\\MaritimeCommCollector\\btk.py\", line 339, in build\n",
      "    self.arch_cal.go_to_date(date)\n",
      "  File \"c:\\Users\\linoa\\OneDrive\\Documents\\GitHub\\MaritimeCommCollector\\btk.py\", line 813, in go_to_date\n",
      "    self._att.update()\n",
      "  File \"c:\\Users\\linoa\\OneDrive\\Documents\\GitHub\\MaritimeCommCollector\\btk.py\", line 1004, in update\n",
      "    self._wait_for_refresh()\n",
      "  File \"c:\\Users\\linoa\\OneDrive\\Documents\\GitHub\\MaritimeCommCollector\\btk.py\", line 1061, in _wait_for_refresh\n",
      "    element = _WebDriverWait(self._browser, 5).until_not(\n",
      "  File \"c:\\Users\\linoa\\OneDrive\\Documents\\GitHub\\MaritimeCommCollector\\.venv\\lib\\site-packages\\selenium\\webdriver\\support\\wait.py\", line 96, in until_not\n",
      "    raise TimeoutException(message)\n",
      "selenium.common.exceptions.TimeoutException: Message: \n",
      "\n",
      "Exception in thread Thread-41 (process_feed):\n",
      "Traceback (most recent call last):\n",
      "  File \"C:\\Users\\linoa\\AppData\\Local\\Programs\\Python\\Python310\\lib\\threading.py\", line 1016, in _bootstrap_inner\n",
      "    self.run()\n",
      "  File \"C:\\Users\\linoa\\AppData\\Local\\Programs\\Python\\Python310\\lib\\threading.py\", line 953, in run\n",
      "    self._target(*self._args, **self._kwargs)\n",
      "  File \"C:\\Users\\linoa\\AppData\\Local\\Temp\\ipykernel_35876\\3483433650.py\", line 9, in process_feed\n",
      "  File \"c:\\Users\\linoa\\OneDrive\\Documents\\GitHub\\MaritimeCommCollector\\btk.py\", line 339, in build\n",
      "    self.arch_cal.go_to_date(date)\n",
      "  File \"c:\\Users\\linoa\\OneDrive\\Documents\\GitHub\\MaritimeCommCollector\\btk.py\", line 813, in go_to_date\n",
      "    self._att.update()\n",
      "  File \"c:\\Users\\linoa\\OneDrive\\Documents\\GitHub\\MaritimeCommCollector\\btk.py\", line 1004, in update\n",
      "    self._wait_for_refresh()\n",
      "  File \"c:\\Users\\linoa\\OneDrive\\Documents\\GitHub\\MaritimeCommCollector\\btk.py\", line 1061, in _wait_for_refresh\n",
      "    element = _WebDriverWait(self._browser, 5).until_not(\n",
      "  File \"c:\\Users\\linoa\\OneDrive\\Documents\\GitHub\\MaritimeCommCollector\\.venv\\lib\\site-packages\\selenium\\webdriver\\support\\wait.py\", line 96, in until_not\n",
      "    raise TimeoutException(message)\n",
      "selenium.common.exceptions.TimeoutException: Message: \n",
      "\n",
      "Exception in thread Exception in thread Thread-32 (process_feed)Thread-40 (process_feed):\n",
      ":\n",
      "Traceback (most recent call last):\n",
      "  File \"C:\\Users\\linoa\\AppData\\Local\\Programs\\Python\\Python310\\lib\\threading.py\", line 1016, in _bootstrap_inner\n",
      "Traceback (most recent call last):\n",
      "  File \"C:\\Users\\linoa\\AppData\\Local\\Programs\\Python\\Python310\\lib\\threading.py\", line 1016, in _bootstrap_inner\n",
      "        self.run()self.run()\n",
      "\n",
      "  File \"C:\\Users\\linoa\\AppData\\Local\\Programs\\Python\\Python310\\lib\\threading.py\", line 953, in run\n",
      "  File \"C:\\Users\\linoa\\AppData\\Local\\Programs\\Python\\Python310\\lib\\threading.py\", line 953, in run\n",
      "        self._target(*self._args, **self._kwargs)\n",
      "  File \"C:\\Users\\linoa\\AppData\\Local\\Temp\\ipykernel_35876\\3483433650.py\", line 9, in process_feed\n",
      "self._target(*self._args, **self._kwargs)\n",
      "  File \"C:\\Users\\linoa\\AppData\\Local\\Temp\\ipykernel_35876\\3483433650.py\", line 9, in process_feed\n",
      "  File \"c:\\Users\\linoa\\OneDrive\\Documents\\GitHub\\MaritimeCommCollector\\btk.py\", line 339, in build\n",
      "  File \"c:\\Users\\linoa\\OneDrive\\Documents\\GitHub\\MaritimeCommCollector\\btk.py\", line 339, in build\n",
      "    self.arch_cal.go_to_date(date)\n",
      "  File \"c:\\Users\\linoa\\OneDrive\\Documents\\GitHub\\MaritimeCommCollector\\btk.py\", line 813, in go_to_date\n",
      "    self.arch_cal.go_to_date(date)\n",
      "  File \"c:\\Users\\linoa\\OneDrive\\Documents\\GitHub\\MaritimeCommCollector\\btk.py\", line 813, in go_to_date\n",
      "    self._att.update()    \n",
      "self._att.update()  File \"c:\\Users\\linoa\\OneDrive\\Documents\\GitHub\\MaritimeCommCollector\\btk.py\", line 1004, in update\n",
      "\n",
      "  File \"c:\\Users\\linoa\\OneDrive\\Documents\\GitHub\\MaritimeCommCollector\\btk.py\", line 1004, in update\n",
      "    self._wait_for_refresh()    \n",
      "self._wait_for_refresh()\n",
      "  File \"c:\\Users\\linoa\\OneDrive\\Documents\\GitHub\\MaritimeCommCollector\\btk.py\", line 1061, in _wait_for_refresh\n",
      "  File \"c:\\Users\\linoa\\OneDrive\\Documents\\GitHub\\MaritimeCommCollector\\btk.py\", line 1061, in _wait_for_refresh\n",
      "        element = _WebDriverWait(self._browser, 5).until_not(element = _WebDriverWait(self._browser, 5).until_not(\n",
      "\n",
      "  File \"c:\\Users\\linoa\\OneDrive\\Documents\\GitHub\\MaritimeCommCollector\\.venv\\lib\\site-packages\\selenium\\webdriver\\support\\wait.py\", line 96, in until_not\n",
      "  File \"c:\\Users\\linoa\\OneDrive\\Documents\\GitHub\\MaritimeCommCollector\\.venv\\lib\\site-packages\\selenium\\webdriver\\support\\wait.py\", line 96, in until_not\n",
      "        raise TimeoutException(message)raise TimeoutException(message)\n",
      "\n",
      "selenium.common.exceptionsselenium.common.exceptions.TimeoutException.: Message: \n",
      "TimeoutException\n",
      ": Message: \n",
      "\n",
      "Exception in thread Thread-37 (process_feed):\n",
      "Traceback (most recent call last):\n",
      "  File \"C:\\Users\\linoa\\AppData\\Local\\Programs\\Python\\Python310\\lib\\threading.py\", line 1016, in _bootstrap_inner\n",
      "    self.run()\n",
      "  File \"C:\\Users\\linoa\\AppData\\Local\\Programs\\Python\\Python310\\lib\\threading.py\", line 953, in run\n",
      "    self._target(*self._args, **self._kwargs)\n",
      "  File \"C:\\Users\\linoa\\AppData\\Local\\Temp\\ipykernel_35876\\3483433650.py\", line 9, in process_feed\n",
      "  File \"c:\\Users\\linoa\\OneDrive\\Documents\\GitHub\\MaritimeCommCollector\\btk.py\", line 339, in build\n",
      "    self.arch_cal.go_to_date(date)\n",
      "  File \"c:\\Users\\linoa\\OneDrive\\Documents\\GitHub\\MaritimeCommCollector\\btk.py\", line 813, in go_to_date\n",
      "    self._att.update()\n",
      "  File \"c:\\Users\\linoa\\OneDrive\\Documents\\GitHub\\MaritimeCommCollector\\btk.py\", line 1004, in update\n",
      "    self._wait_for_refresh()\n",
      "  File \"c:\\Users\\linoa\\OneDrive\\Documents\\GitHub\\MaritimeCommCollector\\btk.py\", line 1061, in _wait_for_refresh\n",
      "    element = _WebDriverWait(self._browser, 5).until_not(\n",
      "  File \"c:\\Users\\linoa\\OneDrive\\Documents\\GitHub\\MaritimeCommCollector\\.venv\\lib\\site-packages\\selenium\\webdriver\\support\\wait.py\", line 96, in until_not\n",
      "    raise TimeoutException(message)\n",
      "selenium.common.exceptions.TimeoutException: Message: \n",
      "\n",
      "Exception in thread Thread-30 (process_feed):\n",
      "Traceback (most recent call last):\n",
      "  File \"C:\\Users\\linoa\\AppData\\Local\\Programs\\Python\\Python310\\lib\\threading.py\", line 1016, in _bootstrap_inner\n",
      "    self.run()\n",
      "  File \"C:\\Users\\linoa\\AppData\\Local\\Programs\\Python\\Python310\\lib\\threading.py\", line 953, in run\n",
      "    self._target(*self._args, **self._kwargs)\n",
      "  File \"C:\\Users\\linoa\\AppData\\Local\\Temp\\ipykernel_35876\\3483433650.py\", line 9, in process_feed\n",
      "  File \"c:\\Users\\linoa\\OneDrive\\Documents\\GitHub\\MaritimeCommCollector\\btk.py\", line 339, in build\n",
      "    self.arch_cal.go_to_date(date)\n",
      "  File \"c:\\Users\\linoa\\OneDrive\\Documents\\GitHub\\MaritimeCommCollector\\btk.py\", line 813, in go_to_date\n",
      "    self._att.update()\n",
      "  File \"c:\\Users\\linoa\\OneDrive\\Documents\\GitHub\\MaritimeCommCollector\\btk.py\", line 1004, in update\n",
      "    self._wait_for_refresh()\n",
      "  File \"c:\\Users\\linoa\\OneDrive\\Documents\\GitHub\\MaritimeCommCollector\\btk.py\", line 1061, in _wait_for_refresh\n",
      "    element = _WebDriverWait(self._browser, 5).until_not(\n",
      "  File \"c:\\Users\\linoa\\OneDrive\\Documents\\GitHub\\MaritimeCommCollector\\.venv\\lib\\site-packages\\selenium\\webdriver\\support\\wait.py\", line 96, in until_not\n",
      "    raise TimeoutException(message)\n",
      "selenium.common.exceptions.TimeoutException: Message: \n",
      "\n",
      "Exception in thread Exception in thread Exception in thread Thread-34 (process_feed)Thread-38 (process_feed)Thread-26 (process_feed):\n",
      ":\n",
      ":\n",
      "Traceback (most recent call last):\n",
      "Traceback (most recent call last):\n",
      "  File \"C:\\Users\\linoa\\AppData\\Local\\Programs\\Python\\Python310\\lib\\threading.py\", line 1016, in _bootstrap_inner\n",
      "Traceback (most recent call last):\n",
      "  File \"C:\\Users\\linoa\\AppData\\Local\\Programs\\Python\\Python310\\lib\\threading.py\", line 1016, in _bootstrap_inner\n",
      "  File \"C:\\Users\\linoa\\AppData\\Local\\Programs\\Python\\Python310\\lib\\threading.py\", line 1016, in _bootstrap_inner\n",
      "        self.run()\n",
      "self.run()      File \"C:\\Users\\linoa\\AppData\\Local\\Programs\\Python\\Python310\\lib\\threading.py\", line 953, in run\n",
      "self.run()\n",
      "\n",
      "  File \"C:\\Users\\linoa\\AppData\\Local\\Programs\\Python\\Python310\\lib\\threading.py\", line 953, in run\n",
      "  File \"C:\\Users\\linoa\\AppData\\Local\\Programs\\Python\\Python310\\lib\\threading.py\", line 953, in run\n",
      "    self._target(*self._args, **self._kwargs)    self._target(*self._args, **self._kwargs)\n",
      "    \n",
      "self._target(*self._args, **self._kwargs)  File \"C:\\Users\\linoa\\AppData\\Local\\Temp\\ipykernel_35876\\3483433650.py\", line 9, in process_feed\n",
      "  File \"C:\\Users\\linoa\\AppData\\Local\\Temp\\ipykernel_35876\\3483433650.py\", line 9, in process_feed\n",
      "\n",
      "  File \"C:\\Users\\linoa\\AppData\\Local\\Temp\\ipykernel_35876\\3483433650.py\", line 9, in process_feed\n",
      "  File \"c:\\Users\\linoa\\OneDrive\\Documents\\GitHub\\MaritimeCommCollector\\btk.py\", line 339, in build\n",
      "  File \"c:\\Users\\linoa\\OneDrive\\Documents\\GitHub\\MaritimeCommCollector\\btk.py\", line 339, in build\n",
      "  File \"c:\\Users\\linoa\\OneDrive\\Documents\\GitHub\\MaritimeCommCollector\\btk.py\", line 339, in build\n",
      "            self.arch_cal.go_to_date(date)self.arch_cal.go_to_date(date)self.arch_cal.go_to_date(date)\n",
      "\n",
      "\n",
      "  File \"c:\\Users\\linoa\\OneDrive\\Documents\\GitHub\\MaritimeCommCollector\\btk.py\", line 813, in go_to_date\n",
      "  File \"c:\\Users\\linoa\\OneDrive\\Documents\\GitHub\\MaritimeCommCollector\\btk.py\", line 813, in go_to_date\n",
      "  File \"c:\\Users\\linoa\\OneDrive\\Documents\\GitHub\\MaritimeCommCollector\\btk.py\", line 813, in go_to_date\n",
      "            self._att.update()self._att.update()\n",
      "self._att.update()\n",
      "  File \"c:\\Users\\linoa\\OneDrive\\Documents\\GitHub\\MaritimeCommCollector\\btk.py\", line 1004, in update\n",
      "  File \"c:\\Users\\linoa\\OneDrive\\Documents\\GitHub\\MaritimeCommCollector\\btk.py\", line 1004, in update\n",
      "\n",
      "  File \"c:\\Users\\linoa\\OneDrive\\Documents\\GitHub\\MaritimeCommCollector\\btk.py\", line 1004, in update\n",
      "        self._wait_for_refresh()\n",
      "    self._wait_for_refresh()self._wait_for_refresh()\n",
      "  File \"c:\\Users\\linoa\\OneDrive\\Documents\\GitHub\\MaritimeCommCollector\\btk.py\", line 1061, in _wait_for_refresh\n",
      "\n",
      "  File \"c:\\Users\\linoa\\OneDrive\\Documents\\GitHub\\MaritimeCommCollector\\btk.py\", line 1061, in _wait_for_refresh\n",
      "  File \"c:\\Users\\linoa\\OneDrive\\Documents\\GitHub\\MaritimeCommCollector\\btk.py\", line 1061, in _wait_for_refresh\n",
      "            element = _WebDriverWait(self._browser, 5).until_not(element = _WebDriverWait(self._browser, 5).until_not(element = _WebDriverWait(self._browser, 5).until_not(\n",
      "\n",
      "\n",
      "  File \"c:\\Users\\linoa\\OneDrive\\Documents\\GitHub\\MaritimeCommCollector\\.venv\\lib\\site-packages\\selenium\\webdriver\\support\\wait.py\", line 96, in until_not\n",
      "  File \"c:\\Users\\linoa\\OneDrive\\Documents\\GitHub\\MaritimeCommCollector\\.venv\\lib\\site-packages\\selenium\\webdriver\\support\\wait.py\", line 96, in until_not\n",
      "  File \"c:\\Users\\linoa\\OneDrive\\Documents\\GitHub\\MaritimeCommCollector\\.venv\\lib\\site-packages\\selenium\\webdriver\\support\\wait.py\", line 96, in until_not\n",
      "            raise TimeoutException(message)raise TimeoutException(message)\n",
      "\n",
      "raise TimeoutException(message)selenium.common.exceptions\n",
      "selenium.common.exceptionsselenium.common.exceptions..TimeoutException.TimeoutException: Message: \n",
      ": TimeoutException\n",
      "Message: \n",
      ": \n",
      "Message: \n",
      "\n"
     ]
    },
    {
     "name": "stdout",
     "output_type": "stream",
     "text": [
      "All downloads completed.\n"
     ]
    }
   ],
   "source": [
    "def process_feed(TEST_FEED_ID):\n",
    "    try:\n",
    "        print(f'Building archive for feed {TEST_FEED_ID}')\n",
    "        archive = BroadcastifyArchive(TEST_FEED_ID, \n",
    "                                        # login_cfg_path=login_path, \n",
    "                                        username=USERNAME, \n",
    "                                        password=PASSWORD,\n",
    "                                        webdriver_path=webdriver_path)\n",
    "        archive.build(start=start_date, end=end_date)\n",
    "\n",
    "        # Download the mp3s for the given time range\n",
    "        out_path = os.path.join(mp3_path, TEST_FEED_ID)\n",
    "        if not os.path.exists(out_path):\n",
    "            os.makedirs(out_path)\n",
    "\n",
    "        out_path += '/'\n",
    "        archive.download(start=download_start_time, end=download_end_time, output_path=out_path)\n",
    "    except:\n",
    "        print(f'Failed to download feed {TEST_FEED_ID}')\n",
    "        pass\n",
    "\n",
    "threads = []\n",
    "\n",
    "for TEST_FEED_ID in TEST_FEED_IDs:\n",
    "    thread = threading.Thread(target=process_feed, args=(TEST_FEED_ID,))\n",
    "    threads.append(thread)\n",
    "    thread.start()\n",
    "\n",
    "# Wait for all threads to complete\n",
    "for thread in threads:\n",
    "    thread.join()\n",
    "\n",
    "print(\"All downloads completed.\")\n"
   ]
  },
  {
   "cell_type": "code",
   "execution_count": null,
   "metadata": {},
   "outputs": [],
   "source": [
    "def delete_small_files(root_directory, size_threshold=20480):\n",
    "    \"\"\"\n",
    "    Delete files smaller than the specified size threshold.\n",
    "\n",
    "    :param root_directory: The directory to search in.\n",
    "    :param size_threshold: The size threshold in bytes. Files smaller than this will be deleted. Defaults to 20 KB.\n",
    "    \"\"\"\n",
    "    for root, dirs, files in os.walk(root_directory):\n",
    "        for file in files:\n",
    "            file_path = os.path.join(root, file)\n",
    "            if os.path.getsize(file_path) < size_threshold:\n",
    "                os.remove(file_path)\n",
    "                print(f\"Deleted: {file_path}\")\n",
    "\n",
    "# Usage example\n",
    "root_dir = r'C:\\Users\\linoa\\Downloads\\audio'  # Replace with your directory path\n",
    "delete_small_files(root_dir)\n"
   ]
  },
  {
   "cell_type": "markdown",
   "metadata": {},
   "source": [
    "----"
   ]
  }
 ],
 "metadata": {
  "kernelspec": {
   "display_name": "Python 3",
   "language": "python",
   "name": "python3"
  },
  "language_info": {
   "codemirror_mode": {
    "name": "ipython",
    "version": 3
   },
   "file_extension": ".py",
   "mimetype": "text/x-python",
   "name": "python",
   "nbconvert_exporter": "python",
   "pygments_lexer": "ipython3",
   "version": "3.10.6"
  },
  "toc": {
   "base_numbering": 1,
   "nav_menu": {},
   "number_sections": true,
   "sideBar": true,
   "skip_h1_title": true,
   "title_cell": "Table of Contents",
   "title_sidebar": "Contents",
   "toc_cell": false,
   "toc_position": {},
   "toc_section_display": true,
   "toc_window_display": false
  },
  "varInspector": {
   "cols": {
    "lenName": 16,
    "lenType": 16,
    "lenVar": 40
   },
   "kernels_config": {
    "python": {
     "delete_cmd_postfix": "",
     "delete_cmd_prefix": "del ",
     "library": "var_list.py",
     "varRefreshCmd": "print(var_dic_list())"
    },
    "r": {
     "delete_cmd_postfix": ") ",
     "delete_cmd_prefix": "rm(",
     "library": "var_list.r",
     "varRefreshCmd": "cat(var_dic_list()) "
    }
   },
   "types_to_exclude": [
    "module",
    "function",
    "builtin_function_or_method",
    "instance",
    "_Feature"
   ],
   "window_display": false
  }
 },
 "nbformat": 4,
 "nbformat_minor": 2
}
