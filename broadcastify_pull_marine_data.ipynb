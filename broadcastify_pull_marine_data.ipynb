{
 "cells": [
  {
   "cell_type": "markdown",
   "metadata": {},
   "source": [
    "# The Broadcastify Archive Toolkit for python\n",
    "#  Based of the `broadcastify-archtk` Demo"
   ]
  },
  {
   "cell_type": "markdown",
   "metadata": {},
   "source": [
    "## Supply a Webdriver Path\n",
    "\n",
    "\n",
    "[Updated Chrome WebDrivers locations](https://googlechromelabs.github.io/chrome-for-testing/#stable)\n",
    "\n",
    "[User Guide: Installing the WebDriver](https://ljhopkins2.github.io/broadcastify-archtk/user-guide/installation.html#installing-the-webdriver)\n",
    "\n",
    "If your webdriver is saved in a directory in your operating system's `PATH` environment variable, you can leave this cell alone.\n",
    "\n",
    "If not, provide the path to the webdriver.\n",
    "\n",
    "Recommend downloading and placing in the chromedriver folder"
   ]
  },
  {
   "cell_type": "code",
   "execution_count": 1,
   "metadata": {},
   "outputs": [],
   "source": [
    "webdriver_path = r'.\\chromedriver\\chromedriver.exe'  # recommend driver location"
   ]
  },
  {
   "cell_type": "markdown",
   "metadata": {},
   "source": [
    "### Install depencies "
   ]
  },
  {
   "cell_type": "code",
   "execution_count": null,
   "metadata": {},
   "outputs": [],
   "source": [
    "!pip install broadcastify_archtk\n",
    "!pip install selenium\n",
    "!pip install lxml\n",
    "!pip install --upgrade jupyter ipywidgets"
   ]
  },
  {
   "cell_type": "markdown",
   "metadata": {},
   "source": [
    "### Test Selenium\n",
    "Chrome should launch indicating that it is working "
   ]
  },
  {
   "cell_type": "code",
   "execution_count": 2,
   "metadata": {},
   "outputs": [],
   "source": [
    "from selenium import webdriver\n",
    "\n",
    "driver = webdriver.Chrome(webdriver_path)  # Path to ChromeDriver\n",
    "driver.get('http://www.google.com')"
   ]
  },
  {
   "cell_type": "markdown",
   "metadata": {},
   "source": [
    "## Import the Package\n",
    "\n",
    "[User Guide: Importing the package](https://ljhopkins2.github.io/broadcastify-archtk/user-guide/creating-an-archive.html#importing-the-package)"
   ]
  },
  {
   "cell_type": "code",
   "execution_count": 2,
   "metadata": {},
   "outputs": [],
   "source": [
    "from btk import BroadcastifyArchive\n",
    "import datetime as dt\n",
    "import os"
   ]
  },
  {
   "cell_type": "markdown",
   "metadata": {},
   "source": [
    "## Instantiate the Toolkit\n",
    "\n",
    "[User Guide: Instantiating the toolkit](https://ljhopkins2.github.io/broadcastify-archtk/user-guide/creating-an-archive.html#instantiating-the-toolkit)\n",
    "\n",
    "Choose a feed to test:\n",
    "- from https://www.broadcastify.com/listen/\n",
    "    - click through the map to a feed of your choice\n",
    "    - grad the `feed_id` from the URL (`www.broadcastify.com/listen/feed/[feed_id]`)\n",
    "- or from the list in the cell below"
   ]
  },
  {
   "cell_type": "markdown",
   "metadata": {},
   "source": [
    "### Supply Login Credentials\n",
    "\n",
    "For the full demo, get a premium account for Broadcastify (see [User Guide: Getting through the paywall](https://ljhopkins2.github.io/broadcastify-archtk/user-guide/installation.html#getting-through-the-paywall)).\n",
    "\n",
    "Without a premium account, you can do Step 4 – but not Step 5 – of the demo.\n",
    "\n",
    "\n",
    "Once you have your Broadcastify account set up, you have two options:\n",
    "\n",
    "**OPTION 1**. Enter your username and password directly in the cell below."
   ]
  },
  {
   "cell_type": "code",
   "execution_count": 3,
   "metadata": {},
   "outputs": [],
   "source": [
    "## OPTION 1: Enter a username & password for a valid Broadcastify premium account below\n",
    "import configparser\n",
    "\n",
    "config = configparser.ConfigParser()\n",
    "config.read('config.ini')\n",
    "\n",
    "USERNAME = config['Broadcastify']['Username']\n",
    "PASSWORD = config['Broadcastify']['Password']"
   ]
  },
  {
   "cell_type": "markdown",
   "metadata": {},
   "source": [
    "**OPTION 2**. Create a configuration file (see [User Guide: Password configuration files](https://ljhopkins2.github.io/broadcastify-archtk/user-guide/creating-an-archive.html#password-configuration-files)) and supply the absolute path to the file"
   ]
  },
  {
   "cell_type": "code",
   "execution_count": 4,
   "metadata": {},
   "outputs": [],
   "source": [
    "## OPTION 2: Create a password configuration file, and supply the link below\n",
    "\n",
    "login_path = None"
   ]
  },
  {
   "cell_type": "markdown",
   "metadata": {},
   "source": [
    "### Instantiate a `BroadcastifyArchive` object"
   ]
  },
  {
   "cell_type": "markdown",
   "metadata": {},
   "source": [
    "## Build the Archive\n",
    "\n",
    "[User Guide: Building the archive](https://ljhopkins2.github.io/broadcastify-archtk/user-guide/building-the-archive.html#building-the-archive)\n",
    "\n",
    "The code below will build the archive for a one-week period starting 10 days ago."
   ]
  },
  {
   "cell_type": "markdown",
   "metadata": {},
   "source": [
    "## Download Audio Files\n",
    "\n",
    "[User Guide: Downloading audio files](https://ljhopkins2.github.io/broadcastify-archtk/user-guide/downloading-audio-files.html#downloading-audio-files)\n",
    "\n",
    "Fill in the absolute path to the directory you'll store the downloaded audio files in."
   ]
  },
  {
   "cell_type": "code",
   "execution_count": 5,
   "metadata": {},
   "outputs": [],
   "source": [
    "# Build the archive for 3-10 days ago\n",
    "start_date = (dt.datetime.now() - dt.timedelta(days=1)).date()\n",
    "end_date = (dt.datetime.now() - dt.timedelta(days=0)).date()\n",
    "\n",
    "# Specify the archive to download path\n",
    "# mp3_path = './downloaded_files/'\n",
    "mp3_path = r'C:\\Users\\linoa\\Downloads\\audio/'"
   ]
  },
  {
   "cell_type": "code",
   "execution_count": 6,
   "metadata": {},
   "outputs": [],
   "source": [
    "# TEST_FEED_ID = '30659' # Ballard Marine - Ch 13, 14 and 16\n",
    "TEST_FEED_IDs = ['41152', '30659', '26694','38117', '36119', '37404', '37460',\n",
    "                 '38764', '40658', '38382', '22851', '31613', '38236', '37640',\n",
    "                 '17329', '34710','31445', '22612','26383','33765'] # list of all feeds to download"
   ]
  },
  {
   "cell_type": "code",
   "execution_count": 7,
   "metadata": {},
   "outputs": [
    {
     "name": "stdout",
     "output_type": "stream",
     "text": [
      "Downloading archives from 2024-01-03 22:00:00 to 2024-01-04 02:00:00\n"
     ]
    }
   ],
   "source": [
    "# Start a year ago, and end today\n",
    "download_start_time = dt.datetime.combine(end_date - dt.timedelta(days=1), dt.datetime(1,1,1,22,0).time())\n",
    "download_end_time = dt.datetime.combine(end_date, dt.datetime(1,1,1,2,0).time())\n",
    "print(f'Downloading archives from {download_start_time} to {download_end_time}')\n"
   ]
  },
  {
   "cell_type": "code",
   "execution_count": 8,
   "metadata": {},
   "outputs": [
    {
     "name": "stdout",
     "output_type": "stream",
     "text": [
      "Building archive for feed 41152\n",
      "Initializing calendar navigation for Port Canaveral Marine Channels 16 & 12...\n",
      "2023-08-14\n",
      "Initialization complete.\n",
      "\n",
      "BroadcastifyArchive\n",
      " (Feed ID = 41152\n",
      "  Feed Name = Port Canaveral Marine Channels 16 & 12\n",
      "  Feed URL = \"https://www.broadcastify.com/listen/feed/41152\"\n",
      "  Archive URL = \"https://www.broadcastify.com/archives/feed/41152\"\n",
      "  Start Date: 2023-08-14\n",
      "  End Date:   2024-01-04\n",
      "  Username = \"parad0xx\" Password = [True]\n",
      "  0 built archive entries \n",
      "Launching webdriver...\n"
     ]
    },
    {
     "data": {
      "application/vnd.jupyter.widget-view+json": {
       "model_id": "fe337afed0d34428a0c22274dece70ed",
       "version_major": 2,
       "version_minor": 0
      },
      "text/plain": [
       "HBox(children=(IntProgress(value=0, description='Building dates', layout=Layout(flex='2'), max=2, style=Progre…"
      ]
     },
     "metadata": {},
     "output_type": "display_data"
    },
    {
     "name": "stdout",
     "output_type": "stream",
     "text": [
      "\n",
      "BroadcastifyArchive\n",
      " (Feed ID = 41152\n",
      "  Feed Name = Port Canaveral Marine Channels 16 & 12\n",
      "  Feed URL = \"https://www.broadcastify.com/listen/feed/41152\"\n",
      "  Archive URL = \"https://www.broadcastify.com/archives/feed/41152\"\n",
      "  Start Date: 2023-08-14\n",
      "  End Date:   2024-01-04\n",
      "  Username = \"parad0xx\" Password = [True]\n",
      "  87 built archive entries between 2024-01-03 and 2024-01-04\n"
     ]
    },
    {
     "data": {
      "application/vnd.jupyter.widget-view+json": {
       "model_id": "562fa38f0e0f4b42b1ce4885e59f3fe5",
       "version_major": 2,
       "version_minor": 0
      },
      "text/plain": [
       "HBox(children=(IntProgress(value=0, description='Overall progress', layout=Layout(flex='2'), max=6, style=Prog…"
      ]
     },
     "metadata": {},
     "output_type": "display_data"
    },
    {
     "name": "stdout",
     "output_type": "stream",
     "text": [
      "Downloading 01-03-24 22:11 to 01-04-24 01:10\n",
      "Storing at C:\\Users\\linoa\\Downloads\\audio/41152.\n",
      "\tDownloading 202401040045-77281-41152.mp3 (209 bytes)\n"
     ]
    },
    {
     "data": {
      "application/vnd.jupyter.widget-view+json": {
       "model_id": "c0999adfb28c4c32839748e5dfcdb9a7",
       "version_major": 2,
       "version_minor": 0
      },
      "text/plain": [
       "HBox(children=(IntProgress(value=0, description='Downloading 202401040045-77281-41152.mp3', layout=Layout(flex…"
      ]
     },
     "metadata": {},
     "output_type": "display_data"
    },
    {
     "name": "stdout",
     "output_type": "stream",
     "text": [
      "\tReceived 209-byte file. Skipping.\n",
      "\tDownloading 202401040018-593031-41152.mp3 (209 bytes)\n"
     ]
    },
    {
     "data": {
      "application/vnd.jupyter.widget-view+json": {
       "model_id": "7375a832241442f4b506401a9ccd6d70",
       "version_major": 2,
       "version_minor": 0
      },
      "text/plain": [
       "HBox(children=(IntProgress(value=0, description='Downloading 202401040018-593031-41152.mp3', layout=Layout(fle…"
      ]
     },
     "metadata": {},
     "output_type": "display_data"
    },
    {
     "name": "stdout",
     "output_type": "stream",
     "text": [
      "\tReceived 209-byte file. Skipping.\n",
      "\tDownloading 202401032343-15835-41152.mp3 (209 bytes)\n"
     ]
    },
    {
     "data": {
      "application/vnd.jupyter.widget-view+json": {
       "model_id": "eabb0f87e95d4c02846cd2a6ee465090",
       "version_major": 2,
       "version_minor": 0
      },
      "text/plain": [
       "HBox(children=(IntProgress(value=0, description='Downloading 202401032343-15835-41152.mp3', layout=Layout(flex…"
      ]
     },
     "metadata": {},
     "output_type": "display_data"
    },
    {
     "name": "stdout",
     "output_type": "stream",
     "text": [
      "\tReceived 209-byte file. Skipping.\n",
      "\tDownloading 202401032241-668697-41152.mp3 (44931 bytes)\n"
     ]
    },
    {
     "data": {
      "application/vnd.jupyter.widget-view+json": {
       "model_id": "ef1a821563cb40da9b45bc9cc7294745",
       "version_major": 2,
       "version_minor": 0
      },
      "text/plain": [
       "HBox(children=(IntProgress(value=0, description='Downloading 202401032241-668697-41152.mp3', layout=Layout(fle…"
      ]
     },
     "metadata": {},
     "output_type": "display_data"
    },
    {
     "name": "stdout",
     "output_type": "stream",
     "text": [
      "\tDownloading 202401032216-691763-41152.mp3 (209 bytes)\n"
     ]
    },
    {
     "data": {
      "application/vnd.jupyter.widget-view+json": {
       "model_id": "e5e96a4d68864347aa5881da43cabc36",
       "version_major": 2,
       "version_minor": 0
      },
      "text/plain": [
       "HBox(children=(IntProgress(value=0, description='Downloading 202401032216-691763-41152.mp3', layout=Layout(fle…"
      ]
     },
     "metadata": {},
     "output_type": "display_data"
    },
    {
     "name": "stdout",
     "output_type": "stream",
     "text": [
      "\tReceived 209-byte file. Skipping.\n",
      "\tDownloading 202401032142-59925-41152.mp3 (209 bytes)\n"
     ]
    },
    {
     "data": {
      "application/vnd.jupyter.widget-view+json": {
       "model_id": "dfe8e894fd8449e59833f6ea53f05307",
       "version_major": 2,
       "version_minor": 0
      },
      "text/plain": [
       "HBox(children=(IntProgress(value=0, description='Downloading 202401032142-59925-41152.mp3', layout=Layout(flex…"
      ]
     },
     "metadata": {},
     "output_type": "display_data"
    },
    {
     "name": "stdout",
     "output_type": "stream",
     "text": [
      "\tReceived 209-byte file. Skipping.\n",
      "\n",
      "Building archive for feed 30659\n",
      "Initializing calendar navigation for Ballard Marine - Ch 13, 14 and 16...\n",
      "2023-01-04\n",
      "Initialization complete.\n",
      "\n",
      "BroadcastifyArchive\n",
      " (Feed ID = 30659\n",
      "  Feed Name = Ballard Marine - Ch 13, 14 and 16\n",
      "  Feed URL = \"https://www.broadcastify.com/listen/feed/30659\"\n",
      "  Archive URL = \"https://www.broadcastify.com/archives/feed/30659\"\n",
      "  Start Date: 2023-01-04\n",
      "  End Date:   2024-01-04\n",
      "  Username = \"parad0xx\" Password = [True]\n",
      "  0 built archive entries \n",
      "Launching webdriver...\n"
     ]
    },
    {
     "data": {
      "application/vnd.jupyter.widget-view+json": {
       "model_id": "1ddb6edb1d5d4b3985751cf5233db721",
       "version_major": 2,
       "version_minor": 0
      },
      "text/plain": [
       "HBox(children=(IntProgress(value=0, description='Building dates', layout=Layout(flex='2'), max=2, style=Progre…"
      ]
     },
     "metadata": {},
     "output_type": "display_data"
    },
    {
     "name": "stdout",
     "output_type": "stream",
     "text": [
      "\n",
      "BroadcastifyArchive\n",
      " (Feed ID = 30659\n",
      "  Feed Name = Ballard Marine - Ch 13, 14 and 16\n",
      "  Feed URL = \"https://www.broadcastify.com/listen/feed/30659\"\n",
      "  Archive URL = \"https://www.broadcastify.com/archives/feed/30659\"\n",
      "  Start Date: 2023-01-04\n",
      "  End Date:   2024-01-04\n",
      "  Username = \"parad0xx\" Password = [True]\n",
      "  81 built archive entries between 2024-01-03 and 2024-01-04\n"
     ]
    },
    {
     "data": {
      "application/vnd.jupyter.widget-view+json": {
       "model_id": "8f2e951c922d4b56b441d336eabb8285",
       "version_major": 2,
       "version_minor": 0
      },
      "text/plain": [
       "HBox(children=(IntProgress(value=0, description='Overall progress', layout=Layout(flex='2'), max=6, style=Prog…"
      ]
     },
     "metadata": {},
     "output_type": "display_data"
    },
    {
     "name": "stdout",
     "output_type": "stream",
     "text": [
      "Downloading 01-03-24 22:15 to 01-04-24 01:14\n",
      "Storing at C:\\Users\\linoa\\Downloads\\audio/41152\\30659.\n",
      "\tDownloading 202401040347-622565-30659.mp3 (216 bytes)\n"
     ]
    },
    {
     "data": {
      "application/vnd.jupyter.widget-view+json": {
       "model_id": "1cdb5671d3134e4c9e8be89309df20f5",
       "version_major": 2,
       "version_minor": 0
      },
      "text/plain": [
       "HBox(children=(IntProgress(value=0, description='Downloading 202401040347-622565-30659.mp3', layout=Layout(fle…"
      ]
     },
     "metadata": {},
     "output_type": "display_data"
    },
    {
     "name": "stdout",
     "output_type": "stream",
     "text": [
      "\tDownloading 202401040316-16955-30659.mp3 (216 bytes)\n"
     ]
    },
    {
     "data": {
      "application/vnd.jupyter.widget-view+json": {
       "model_id": "30334c960a0c49c6812cccd721858ad2",
       "version_major": 2,
       "version_minor": 0
      },
      "text/plain": [
       "HBox(children=(IntProgress(value=0, description='Downloading 202401040316-16955-30659.mp3', layout=Layout(flex…"
      ]
     },
     "metadata": {},
     "output_type": "display_data"
    },
    {
     "name": "stdout",
     "output_type": "stream",
     "text": [
      "\tDownloading 202401040246-693690-30659.mp3 (216 bytes)\n"
     ]
    },
    {
     "data": {
      "application/vnd.jupyter.widget-view+json": {
       "model_id": "e7091b201ecc4a6bb1d410a46b219060",
       "version_major": 2,
       "version_minor": 0
      },
      "text/plain": [
       "HBox(children=(IntProgress(value=0, description='Downloading 202401040246-693690-30659.mp3', layout=Layout(fle…"
      ]
     },
     "metadata": {},
     "output_type": "display_data"
    },
    {
     "name": "stdout",
     "output_type": "stream",
     "text": [
      "\tDownloading 202401040147-312059-30659.mp3 (216 bytes)\n"
     ]
    },
    {
     "data": {
      "application/vnd.jupyter.widget-view+json": {
       "model_id": "5d94bd9aa39e419aad61bced96b8557b",
       "version_major": 2,
       "version_minor": 0
      },
      "text/plain": [
       "HBox(children=(IntProgress(value=0, description='Downloading 202401040147-312059-30659.mp3', layout=Layout(fle…"
      ]
     },
     "metadata": {},
     "output_type": "display_data"
    },
    {
     "name": "stdout",
     "output_type": "stream",
     "text": [
      "\tDownloading 202401040120-949042-30659.mp3 (216 bytes)\n"
     ]
    },
    {
     "data": {
      "application/vnd.jupyter.widget-view+json": {
       "model_id": "016b198180a44a13a84d880f55d26c5b",
       "version_major": 2,
       "version_minor": 0
      },
      "text/plain": [
       "HBox(children=(IntProgress(value=0, description='Downloading 202401040120-949042-30659.mp3', layout=Layout(fle…"
      ]
     },
     "metadata": {},
     "output_type": "display_data"
    },
    {
     "name": "stdout",
     "output_type": "stream",
     "text": [
      "\tDownloading 202401040047-297302-30659.mp3 (216 bytes)\n"
     ]
    },
    {
     "data": {
      "application/vnd.jupyter.widget-view+json": {
       "model_id": "4316b50d7fb64df3b28fe9d7c4d84c6c",
       "version_major": 2,
       "version_minor": 0
      },
      "text/plain": [
       "HBox(children=(IntProgress(value=0, description='Downloading 202401040047-297302-30659.mp3', layout=Layout(fle…"
      ]
     },
     "metadata": {},
     "output_type": "display_data"
    },
    {
     "name": "stdout",
     "output_type": "stream",
     "text": [
      "\n",
      "Building archive for feed 26694\n",
      "Initializing calendar navigation for Kitsap County Area Marine...\n",
      "2023-01-04\n",
      "Initialization complete.\n",
      "\n",
      "BroadcastifyArchive\n",
      " (Feed ID = 26694\n",
      "  Feed Name = Kitsap County Area Marine\n",
      "  Feed URL = \"https://www.broadcastify.com/listen/feed/26694\"\n",
      "  Archive URL = \"https://www.broadcastify.com/archives/feed/26694\"\n",
      "  Start Date: 2023-01-04\n",
      "  End Date:   2024-01-04\n",
      "  Username = \"parad0xx\" Password = [True]\n",
      "  0 built archive entries \n",
      "Launching webdriver...\n",
      "Failed to download feed 26694\n",
      "Building archive for feed 38117\n",
      "Initializing calendar navigation for San Francisco Marine Ch 16...\n",
      "2023-01-04\n",
      "Initialization complete.\n",
      "\n",
      "BroadcastifyArchive\n",
      " (Feed ID = 38117\n",
      "  Feed Name = San Francisco Marine Ch 16\n",
      "  Feed URL = \"https://www.broadcastify.com/listen/feed/38117\"\n",
      "  Archive URL = \"https://www.broadcastify.com/archives/feed/38117\"\n",
      "  Start Date: 2023-01-04\n",
      "  End Date:   2024-01-04\n",
      "  Username = \"parad0xx\" Password = [True]\n",
      "  0 built archive entries \n",
      "Launching webdriver...\n"
     ]
    }
   ],
   "source": [
    "\n",
    "for TEST_FEED_ID in TEST_FEED_IDs:\n",
    "    try:\n",
    "        print(f'Building archive for feed {TEST_FEED_ID}')\n",
    "        archive = BroadcastifyArchive(TEST_FEED_ID, \n",
    "                                    #   login_cfg_path=login_path, \n",
    "                                      username=USERNAME, \n",
    "                                      password=PASSWORD,\n",
    "                                      webdriver_path=webdriver_path)\n",
    "        archive.build(start=start_date, end=end_date)\n",
    "\n",
    "        # Download the mp3s for the given time range\n",
    "        out_path = os.path.join(mp3_path, TEST_FEED_ID)\n",
    "        if not os.path.exists(out_path):\n",
    "            os.makedirs(out_path)\n",
    "        archive.download(start=download_start_time, end=download_end_time, output_path=out_path)\n",
    "    except:\n",
    "        print(f'Failed to download feed {TEST_FEED_ID}')\n",
    "        pass"
   ]
  },
  {
   "cell_type": "markdown",
   "metadata": {},
   "source": [
    "----"
   ]
  }
 ],
 "metadata": {
  "kernelspec": {
   "display_name": "Python 3",
   "language": "python",
   "name": "python3"
  },
  "language_info": {
   "codemirror_mode": {
    "name": "ipython",
    "version": 3
   },
   "file_extension": ".py",
   "mimetype": "text/x-python",
   "name": "python",
   "nbconvert_exporter": "python",
   "pygments_lexer": "ipython3",
   "version": "3.10.6"
  },
  "toc": {
   "base_numbering": 1,
   "nav_menu": {},
   "number_sections": true,
   "sideBar": true,
   "skip_h1_title": true,
   "title_cell": "Table of Contents",
   "title_sidebar": "Contents",
   "toc_cell": false,
   "toc_position": {},
   "toc_section_display": true,
   "toc_window_display": false
  },
  "varInspector": {
   "cols": {
    "lenName": 16,
    "lenType": 16,
    "lenVar": 40
   },
   "kernels_config": {
    "python": {
     "delete_cmd_postfix": "",
     "delete_cmd_prefix": "del ",
     "library": "var_list.py",
     "varRefreshCmd": "print(var_dic_list())"
    },
    "r": {
     "delete_cmd_postfix": ") ",
     "delete_cmd_prefix": "rm(",
     "library": "var_list.r",
     "varRefreshCmd": "cat(var_dic_list()) "
    }
   },
   "types_to_exclude": [
    "module",
    "function",
    "builtin_function_or_method",
    "instance",
    "_Feature"
   ],
   "window_display": false
  }
 },
 "nbformat": 4,
 "nbformat_minor": 2
}
